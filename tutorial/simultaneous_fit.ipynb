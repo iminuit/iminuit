{
 "cells": [
  {
   "cell_type": "markdown",
   "metadata": {},
   "source": [
    "# Simulataneous Fitting in iminuit\n",
    "\n",
    "This notebook demonstrates how to simultaneously fit two datasets, where the distributions have shared parameters, through the use of `CostSum`."
   ]
  },
  {
   "cell_type": "code",
   "execution_count": 1,
   "metadata": {},
   "outputs": [],
   "source": [
    "from iminuit import Minuit\n",
    "from iminuit.cost import UnbinnedNLL\n",
    "from iminuit.util import make_with_signature, describe\n",
    "from matplotlib import pyplot as plt\n",
    "import numpy as np\n",
    "import numba as nb\n"
   ]
  },
  {
   "cell_type": "code",
   "execution_count": 2,
   "metadata": {},
   "outputs": [
    {
     "name": "stdout",
     "output_type": "stream",
     "text": [
      "before describe(norm_pdf)=()\n",
      "after  describe(normal_pdf)=('x', 'μ', 'σ')\n"
     ]
    }
   ],
   "source": [
    "# norm_pdf from numba_stats is a compiled function\n",
    "# without a function signature, so we create one\n",
    "from numba_stats import norm_pdf\n",
    "\n",
    "print(f\"before {describe(norm_pdf)=}\")\n",
    "normal_pdf = make_with_signature(norm_pdf, \"x\", \"μ\", \"σ\")\n",
    "print(f\"after  {describe(normal_pdf)=}\")"
   ]
  },
  {
   "cell_type": "code",
   "execution_count": 3,
   "metadata": {},
   "outputs": [],
   "source": [
    "# generate two data sets which are fitted simultaneously\n",
    "rng = np.random.default_rng(1)\n",
    "\n",
    "width = 2.0\n",
    "data1 = rng.normal(1, width, size=1000)\n",
    "data2 = rng.normal(2, width, size=1000)"
   ]
  },
  {
   "cell_type": "code",
   "execution_count": 15,
   "metadata": {},
   "outputs": [
    {
     "name": "stdout",
     "output_type": "stream",
     "text": [
      "describe(lh)=('μ_1', 'σ', 'μ_2')\n"
     ]
    }
   ],
   "source": [
    "# rename non-shared parameters to create correct signature\n",
    "pdf1 = make_with_signature(normal_pdf, μ='μ_1')\n",
    "pdf2 = make_with_signature(normal_pdf, μ='μ_2')\n",
    "\n",
    "# combine two cost functions with shared parameters\n",
    "lh = UnbinnedNLL(data1, pdf1) + UnbinnedNLL(data2, pdf2)\n",
    "\n",
    "print(f\"{describe(lh)=}\")"
   ]
  },
  {
   "cell_type": "markdown",
   "metadata": {},
   "source": [
    "The `σ` parameter is shared between the data sets."
   ]
  },
  {
   "cell_type": "code",
   "execution_count": 23,
   "metadata": {},
   "outputs": [],
   "source": [
    "def plot(cost, xe, minuit, i, ax):\n",
    "    signature = list(describe(cost[i]))\n",
    "    data = cost[i].data\n",
    "    \n",
    "    values = minuit.values[signature]\n",
    "    errors = minuit.errors[signature]\n",
    "\n",
    "    cx = (xe[1:] + xe[:-1]) / 2\n",
    "    dx = (xe[1] - xe[0])\n",
    "\n",
    "    ym = normal_pdf(cx, *values) * np.sum(w * dx)\n",
    "    ax.plot(cx, ym)\n",
    "    t = \"\"\n",
    "    for n, v, e in zip(signature, values, errors):\n",
    "        t += f\"{n} = {v:.3f} ± {e:.3f}\\n\"\n",
    "    ax.text(0.01, 0.99, t, transform=ax.transAxes, va='top')"
   ]
  },
  {
   "cell_type": "code",
   "execution_count": 26,
   "metadata": {},
   "outputs": [
    {
     "ename": "AttributeError",
     "evalue": "'numpy.ndarray' object has no attribute 'errorbar'",
     "output_type": "error",
     "traceback": [
      "\u001b[0;31m---------------------------------------------------------------------------\u001b[0m",
      "\u001b[0;31mAttributeError\u001b[0m                            Traceback (most recent call last)",
      "\u001b[0;32m<ipython-input-26-d8361ebd3ac3>\u001b[0m in \u001b[0;36m<module>\u001b[0;34m\u001b[0m\n\u001b[1;32m      7\u001b[0m     \u001b[0mw\u001b[0m\u001b[0;34m,\u001b[0m \u001b[0mxe\u001b[0m \u001b[0;34m=\u001b[0m \u001b[0mnp\u001b[0m\u001b[0;34m.\u001b[0m\u001b[0mhistogram\u001b[0m\u001b[0;34m(\u001b[0m\u001b[0mlhi\u001b[0m\u001b[0;34m.\u001b[0m\u001b[0mdata\u001b[0m\u001b[0;34m,\u001b[0m \u001b[0mbins\u001b[0m\u001b[0;34m=\u001b[0m\u001b[0;36m100\u001b[0m\u001b[0;34m)\u001b[0m\u001b[0;34m\u001b[0m\u001b[0;34m\u001b[0m\u001b[0m\n\u001b[1;32m      8\u001b[0m     \u001b[0mcx\u001b[0m \u001b[0;34m=\u001b[0m \u001b[0;34m(\u001b[0m\u001b[0mxe\u001b[0m\u001b[0;34m[\u001b[0m\u001b[0;36m1\u001b[0m\u001b[0;34m:\u001b[0m\u001b[0;34m]\u001b[0m \u001b[0;34m+\u001b[0m \u001b[0mxe\u001b[0m\u001b[0;34m[\u001b[0m\u001b[0;34m:\u001b[0m\u001b[0;34m-\u001b[0m\u001b[0;36m1\u001b[0m\u001b[0;34m]\u001b[0m\u001b[0;34m)\u001b[0m \u001b[0;34m/\u001b[0m \u001b[0;36m2\u001b[0m\u001b[0;34m\u001b[0m\u001b[0;34m\u001b[0m\u001b[0m\n\u001b[0;32m----> 9\u001b[0;31m     \u001b[0max\u001b[0m\u001b[0;34m.\u001b[0m\u001b[0merrorbar\u001b[0m\u001b[0;34m(\u001b[0m\u001b[0mcx\u001b[0m\u001b[0;34m,\u001b[0m \u001b[0mw\u001b[0m\u001b[0;34m,\u001b[0m \u001b[0mnp\u001b[0m\u001b[0;34m.\u001b[0m\u001b[0msqrt\u001b[0m\u001b[0;34m(\u001b[0m\u001b[0mw\u001b[0m\u001b[0;34m)\u001b[0m\u001b[0;34m,\u001b[0m \u001b[0mfmt\u001b[0m\u001b[0;34m=\u001b[0m\u001b[0;34m\"b.\"\u001b[0m\u001b[0;34m,\u001b[0m \u001b[0mcapsize\u001b[0m\u001b[0;34m=\u001b[0m\u001b[0;36m0\u001b[0m\u001b[0;34m,\u001b[0m \u001b[0mzorder\u001b[0m\u001b[0;34m=\u001b[0m\u001b[0;36m0\u001b[0m\u001b[0;34m)\u001b[0m\u001b[0;34m\u001b[0m\u001b[0;34m\u001b[0m\u001b[0m\n\u001b[0m\u001b[1;32m     10\u001b[0m     \u001b[0mplot\u001b[0m\u001b[0;34m(\u001b[0m\u001b[0mlhi\u001b[0m\u001b[0;34m,\u001b[0m \u001b[0mm\u001b[0m\u001b[0;34m,\u001b[0m \u001b[0maxi\u001b[0m\u001b[0;34m)\u001b[0m\u001b[0;34m\u001b[0m\u001b[0;34m\u001b[0m\u001b[0m\n\u001b[1;32m     11\u001b[0m \u001b[0;34m\u001b[0m\u001b[0m\n",
      "\u001b[0;31mAttributeError\u001b[0m: 'numpy.ndarray' object has no attribute 'errorbar'"
     ]
    },
    {
     "data": {
      "image/png": "[encoded data removed]",
      "text/plain": [
       "<Figure size 1008x360 with 2 Axes>"
      ]
     },
     "metadata": {
      "needs_background": "light"
     },
     "output_type": "display_data"
    }
   ],
   "source": [
    "m = Minuit(lh, μ_1=0.2, μ_2=2.2, σ=1.5)\n",
    "\n",
    "fig, ax = plt.subplots(1, 2, figsize=(14, 5))\n",
    "\n",
    "# draw data\n",
    "for lhi, axi in zip(lh, ax):\n",
    "    w, xe = np.histogram(lhi.data, bins=100)\n",
    "    cx = (xe[1:] + xe[:-1]) / 2\n",
    "    ax.errorbar(cx, w, np.sqrt(w), fmt=\"b.\", capsize=0, zorder=0)\n",
    "    plot(lhi, m, axi)\n",
    "\n",
    "m.migrad()  # fit\n",
    "\n",
    "for lhi, axi in zip(lh, ax):\n",
    "    plot(lhi, m, axi)"
   ]
  },
  {
   "cell_type": "code",
   "execution_count": null,
   "metadata": {},
   "outputs": [],
   "source": []
  }
 ],
 "metadata": {
  "kernelspec": {
   "display_name": "Python 3",
   "language": "python",
   "name": "python3"
  },
  "language_info": {
   "codemirror_mode": {
    "name": "ipython",
    "version": 3
   },
   "file_extension": ".py",
   "mimetype": "text/x-python",
   "name": "python",
   "nbconvert_exporter": "python",
   "pygments_lexer": "ipython3",
   "version": "3.8.6"
  }
 },
 "nbformat": 4,
 "nbformat_minor": 4
}
