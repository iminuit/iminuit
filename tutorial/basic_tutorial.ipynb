{
 "cells": [
  {
   "cell_type": "markdown",
   "metadata": {},
   "source": [
    "# iminuit tutorial\n",
    "\n",
    "Welcome to the **iminuit tutorial**. You will learn basic usage of iminuit and how to approach standard fitting problems with iminuit. \n",
    "\n",
    "iminuit is a Python frontend to the *Minuit* library in C++, an integrated software that combines a local minimizer (called *Migrad*) and two error calculators (called *Hesse* and the *Minos*). You provide it an analytical function, which accepts one or several parameters, and an initial guess of the parameter values. It will then find a local minimum of this function starting from the initial guess. In that regard, iminuit minimizer is like other local minimizers, like those in scipy.optimize.\n",
    "\n",
    "In addition, iminuit has the ability to compute **uncertainty estimates** for model parameters. iminuit was designed to solve statistics problems, where uncertainty estimates are an essential part of the result. The two ways of computing uncertainty estimates, *Hesse* and the *Minos*, have different advantages and disadvantages.\n",
    "\n",
    "iminuit is the successor of pyminuit. If you used pyminuit before, you will find iminuit very familiar. An important feature of iminuit (and pyminuit) is that it uses introspection to detect the parameter names of your function. This is very convenient, especially when you work interactively in a Jupyter notebook. It also provides special output routines for Jupyter notebooks to pretty print the fit results, as you will see below."
   ]
  },
  {
   "cell_type": "code",
   "execution_count": 1,
   "metadata": {},
   "outputs": [],
   "source": [
    "# basic setup of the notebook\n",
    "from matplotlib import pyplot as plt\n",
    "import numpy as np\n",
    "\n",
    "# everything in iminuit is done through the Minuit object, so we import it\n",
    "from iminuit import Minuit\n",
    "# we also need a cost function to fit and import the LeastSquares function\n",
    "from iminuit.cost import LeastSquares"
   ]
  },
  {
   "cell_type": "markdown",
   "metadata": {},
   "source": [
    "## Quick start\n",
    "\n",
    "For this tutorial, we look at a simple case where line should be fitted to scattered $(x, y)$ data. A line has two parameters $(a, b)$. In this first section, we go through the full fit, showing all basic steps. This is for the impatient who want to get started ASAP. In the following sections we then revisit the steps."
   ]
  },
  {
   "cell_type": "code",
   "execution_count": 2,
   "metadata": {},
   "outputs": [
    {
     "data": {
      "image/png": "[encoded data removed]",
      "text/plain": [
       "<Figure size 432x288 with 1 Axes>"
      ]
     },
     "metadata": {
      "needs_background": "light"
     },
     "output_type": "display_data"
    }
   ],
   "source": [
    "# our line model\n",
    "def line(x, a, b):\n",
    "    return a + x * b\n",
    "\n",
    "# generate random toy data with random offsets in y\n",
    "np.random.seed(1)\n",
    "data_x = np.linspace(0, 1, 10)\n",
    "data_yerr = 0.1 # could also be an array\n",
    "data_y = line(data_x, 1, 2) + data_yerr * np.random.randn(len(data_x))\n",
    "\n",
    "# draw toy data\n",
    "plt.errorbar(data_x, data_y, data_yerr, fmt=\"o\")\n",
    "plt.xlim(-0.1, 1.1);"
   ]
  },
  {
   "cell_type": "markdown",
   "metadata": {},
   "source": [
    "To recover the parameters $a$ and $b$ of the line model from this data, we need to a minimize a suitable cost function. The cost function must be twice differentiable and have a minimum at the optimal parameters. We use the method of least-squares here, whose cost function computes the sum of squared residuals between the model and the data. The task of iminuit is to find the minimum of that function. Let's do it:"
   ]
  },
  {
   "cell_type": "code",
   "execution_count": 3,
   "metadata": {},
   "outputs": [
    {
     "name": "stdout",
     "output_type": "stream",
     "text": [
      "a = 1.007 +/- 0.059\n",
      "b = 1.966 +/- 0.099\n"
     ]
    },
    {
     "data": {
      "image/png": "[encoded data removed]",
      "text/plain": [
       "<Figure size 432x288 with 1 Axes>"
      ]
     },
     "metadata": {
      "needs_background": "light"
     },
     "output_type": "display_data"
    }
   ],
   "source": [
    "# a simple least-squares cost function looks like this...\n",
    "def custom_least_squares(a, b):\n",
    "    ym = line(data_x, a, b)\n",
    "    z = (data_y - ym) / data_yerr ** 2\n",
    "    return np.sum(z ** 2)\n",
    "\n",
    "# ...but instead of writing this by hand, it is better and\n",
    "# more convenient to use the LeastSquares class shipped with iminuit\n",
    "least_squares = LeastSquares(data_x, data_y, data_yerr, line)\n",
    "\n",
    "m = Minuit(least_squares, a=0, b=0)  # we need starting values for a and b\n",
    "\n",
    "m.migrad() # finds minimum of least_squares function\n",
    "m.hesse()  # computes errors \n",
    "\n",
    "# draw data and fitted line\n",
    "plt.errorbar(data_x, data_y, data_yerr, fmt=\"o\")\n",
    "plt.plot(data_x, line(data_x, *m.values.values()))\n",
    "\n",
    "# print parameter values and uncertainty estimates\n",
    "for p in m.parameters:\n",
    "    print(\"{} = {:.3f} +/- {:.3f}\".format(p, m.values[p], m.errors[p]))"
   ]
  },
  {
   "cell_type": "markdown",
   "metadata": {},
   "source": [
    "And that is already it for a basic fit. Easy, right?\n",
    "\n",
    "In the following, we dive into the details step by step; how the Minuit object is initialized, how to run the algorithms, and how to get the results.\n",
    "\n",
    "iminuit was designed to make it easy to fit functions like `least_squares(a, b)`, where the parameters are individual arguments of the function. There is an alternative function signature that Minuit supports, which is more convenient when you work a lot with numpy. Here, the parameters are passed as a numpy array. The two kinds of function definitions have each pros and cons. We will first dive how to work with functions of the first kind and come back to the second kind later. If you are interested only in the second kind, skip to the section **Alternative: Numpy functions**"
   ]
  },
  {
   "cell_type": "markdown",
   "metadata": {},
   "source": [
    "## Initialize the Minuit object\n",
    "\n",
    "To minimize a function, you create an instance of the Minuit class and pass the function to it. This does not start the minimization yet, this will come later. iminuit uses introspection to get the number and names of the function parameters automatically."
   ]
  },
  {
   "cell_type": "code",
   "execution_count": 4,
   "metadata": {},
   "outputs": [
    {
     "name": "stderr",
     "output_type": "stream",
     "text": [
      "/usr/local/lib/python3.7/site-packages/ipykernel_launcher.py:1: InitialParamWarning: Parameter a does not have neither initial value nor limits.\n",
      "  \"\"\"Entry point for launching an IPython kernel.\n",
      "/usr/local/lib/python3.7/site-packages/ipykernel_launcher.py:1: InitialParamWarning: Parameter b does not have neither initial value nor limits.\n",
      "  \"\"\"Entry point for launching an IPython kernel.\n"
     ]
    }
   ],
   "source": [
    "m = Minuit(least_squares) # we create an instance of Minuit and pass the function to minimize"
   ]
  },
  {
   "cell_type": "markdown",
   "metadata": {},
   "source": [
    "Woah, warnings, we will resolve those in a moment. Note how iminuit refers to your parameters by correct names. The filename and line numbers shown in the warnings are bogus in Jupyter notebooks, but refer to the correct file and line when you use iminuit in a script or in the terminal shell.\n",
    "\n",
    "### Initial parameter values\n",
    "\n",
    "iminuit is a local minimizer. It searches for a local minimum by gradient-descent method from a starting point. If your function has several minima, the minimum found will depend on the starting point. Even if it has only one minimum, iminuit will converge to it faster if you start in the proximity of the minimum. If you don't provide a starting value for a parameter, it uses 0. You almost always want to specify a starting point.\n",
    "\n",
    "You can set the starting point using the parameter names as keywords, `<name> = <value>`."
   ]
  },
  {
   "cell_type": "code",
   "execution_count": 5,
   "metadata": {},
   "outputs": [],
   "source": [
    "m = Minuit(least_squares, a=5, b=5) # pass starting values for a and b"
   ]
  },
  {
   "cell_type": "markdown",
   "metadata": {},
   "source": [
    "No more warnings, we are good to go."
   ]
  },
  {
   "cell_type": "markdown",
   "metadata": {},
   "source": [
    "### Silence warnings\n",
    "\n",
    "If you want to quickly minimize a function and you know that the defaults are ok, you can explicitly silence all warnings, like so:"
   ]
  },
  {
   "cell_type": "code",
   "execution_count": 6,
   "metadata": {},
   "outputs": [],
   "source": [
    "m = Minuit(least_squares, pedantic=False)  # silence warnings, use default values"
   ]
  },
  {
   "cell_type": "markdown",
   "metadata": {},
   "source": [
    "The default value for all parameters is 0."
   ]
  },
  {
   "cell_type": "markdown",
   "metadata": {},
   "source": [
    "### Inspecting current parameters\n",
    "\n",
    "You can check the current parameter values and settings with the method `Minuit.params` at any time. It returns a special list of `Param` objects which pretty-prints in Jupyter and in the terminal."
   ]
  },
  {
   "cell_type": "code",
   "execution_count": 7,
   "metadata": {},
   "outputs": [
    {
     "data": {
      "text/html": [
       "<table>\n",
       "<tr style=\"background-color:#F4F4F4;\"> <td/> <th title=\"Variable name\"> Name </th> <th title=\"Value of parameter\"> Value </th> <th title=\"Hesse error\"> Hesse Error </th> <th title=\"Minos lower error\"> Minos Error- </th> <th title=\"Minos upper error\"> Minos Error+ </th> <th title=\"Lower limit of the parameter\"> Limit- </th> <th title=\"Upper limit of the parameter\"> Limit+ </th> <th title=\"Is the parameter fixed in the fit\"> Fixed </th> </tr>\n",
       "<tr style=\"background-color:#FFFFFF;\"> <th> 0 </th> <td> a </td> <td> 0.0 </td> <td> 0.1 </td> <td>  </td> <td>  </td> <td>  </td> <td>  </td> <td>  </td> </tr>\n",
       "<tr style=\"background-color:#F4F4F4;\"> <th> 1 </th> <td> b </td> <td> 0.0 </td> <td> 0.1 </td> <td>  </td> <td>  </td> <td>  </td> <td>  </td> <td>  </td> </tr>\n",
       "</table>\n"
      ],
      "text/plain": [
       "------------------------------------------------------------------------------------------\n",
       "|   | Name |   Value   | Hesse Err | Minos Err- | Minos Err+ | Limit-  | Limit+  | Fixed |\n",
       "------------------------------------------------------------------------------------------\n",
       "| 0 | a    |    0.0    |    0.1    |            |            |         |         |       |\n",
       "| 1 | b    |    0.0    |    0.1    |            |            |         |         |       |\n",
       "------------------------------------------------------------------------------------------"
      ]
     },
     "execution_count": 7,
     "metadata": {},
     "output_type": "execute_result"
    }
   ],
   "source": [
    "m.params"
   ]
  },
  {
   "cell_type": "markdown",
   "metadata": {},
   "source": [
    "\n",
    "This produces a nice table with numbers rounded according to the rules of the *Particle Data Group*. The table will be updated once you run the actual minimization. To look at the initital conditions later, use `Minuit.init_params`. We will come back to the meaning of *Hesse Error* and *Minos Error* later."
   ]
  },
  {
   "cell_type": "code",
   "execution_count": 8,
   "metadata": {},
   "outputs": [
    {
     "name": "stdout",
     "output_type": "stream",
     "text": [
      "------------------------------------------------------------------------------------------\n",
      "|   | Name |   Value   | Hesse Err | Minos Err- | Minos Err+ | Limit-  | Limit+  | Fixed |\n",
      "------------------------------------------------------------------------------------------\n",
      "| 0 | a    |    0.0    |    0.1    |            |            |         |         |       |\n",
      "| 1 | b    |    0.0    |    0.1    |            |            |         |         |       |\n",
      "------------------------------------------------------------------------------------------\n"
     ]
    }
   ],
   "source": [
    "print(m.params) # the terminal output is also pretty"
   ]
  },
  {
   "cell_type": "code",
   "execution_count": 9,
   "metadata": {},
   "outputs": [
    {
     "name": "stdout",
     "output_type": "stream",
     "text": [
      "[Param(number=0, name='a', value=0.0, error=0.1, is_const=False, is_fixed=False, has_limits=False, has_lower_limit=False, has_upper_limit=False, lower_limit=None, upper_limit=None), Param(number=1, name='b', value=0.0, error=0.1, is_const=False, is_fixed=False, has_limits=False, has_lower_limit=False, has_upper_limit=False, lower_limit=None, upper_limit=None)]\n"
     ]
    }
   ],
   "source": [
    "# to see the underlying Python objects, use repr()\n",
    "print(repr(m.params))"
   ]
  },
  {
   "cell_type": "markdown",
   "metadata": {},
   "source": [
    "### Parameters with limits\n",
    "\n",
    "iminuit allows you to set parameter limits. Often a parameter is limited mathematically or physically to a certain range. For example, if your function contains `sqrt(x)`, then $x$ must be non-negative, $x \\ge 0$. You can set upper-, lower-, or two-sided limits for each parameter individually with keywords `limit_<name>`:\n",
    "\n",
    "- lower limit: use `limit_<name> = (<value>, None)` or `(<value>, float(\"infinity\"))`\n",
    "- upper limit: use `limit_<name> = (None, <value>)` or `(-float(\"infinity\"), <value>)`\n",
    "- two-sided limit: use `limit_<name> = (<min_value>, <max_value>)`\n",
    "\n",
    "To impose the limits $a \\ge 0$ and $0 \\le b \\le 10$ in our example, we use:"
   ]
  },
  {
   "cell_type": "code",
   "execution_count": 10,
   "metadata": {},
   "outputs": [
    {
     "data": {
      "text/html": [
       "<table>\n",
       "<tr style=\"background-color:#F4F4F4;\"> <td/> <th title=\"Variable name\"> Name </th> <th title=\"Value of parameter\"> Value </th> <th title=\"Hesse error\"> Hesse Error </th> <th title=\"Minos lower error\"> Minos Error- </th> <th title=\"Minos upper error\"> Minos Error+ </th> <th title=\"Lower limit of the parameter\"> Limit- </th> <th title=\"Upper limit of the parameter\"> Limit+ </th> <th title=\"Is the parameter fixed in the fit\"> Fixed </th> </tr>\n",
       "<tr style=\"background-color:#FFFFFF;\"> <th> 0 </th> <td> a </td> <td> 5.0 </td> <td> 0.1 </td> <td>  </td> <td>  </td> <td> 0 </td> <td>  </td> <td>  </td> </tr>\n",
       "<tr style=\"background-color:#F4F4F4;\"> <th> 1 </th> <td> b </td> <td> 5.0 </td> <td> 0.1 </td> <td>  </td> <td>  </td> <td> 0 </td> <td> 10 </td> <td>  </td> </tr>\n",
       "</table>\n"
      ],
      "text/plain": [
       "------------------------------------------------------------------------------------------\n",
       "|   | Name |   Value   | Hesse Err | Minos Err- | Minos Err+ | Limit-  | Limit+  | Fixed |\n",
       "------------------------------------------------------------------------------------------\n",
       "| 0 | a    |    5.0    |    0.1    |            |            |    0    |         |       |\n",
       "| 1 | b    |    5.0    |    0.1    |            |            |    0    |   10    |       |\n",
       "------------------------------------------------------------------------------------------"
      ]
     },
     "execution_count": 10,
     "metadata": {},
     "output_type": "execute_result"
    }
   ],
   "source": [
    "m = Minuit(least_squares, a=5, b=5,\n",
    "           error_a=0.1, error_b=0.1,\n",
    "           limit_a=(0, None), limit_b=(0, 10),\n",
    "           errordef=1)\n",
    "m.params"
   ]
  },
  {
   "cell_type": "markdown",
   "metadata": {},
   "source": [
    "### Fixing and releasing parameters\n",
    "\n",
    "Sometimes you have a parameter which you want to set to a fixed value temporarily. Perhaps you have a guess for its value, and you want to see how the other parameters adapt when this parameter is fixed to that value.\n",
    "\n",
    "Or you have a complex function with many parameters that do not all affect the function at the same scale. Then you can manually help the minimizer to find the minimum faster by first fixing the less important parameters to initial guesses and fit only the important parameters. Once the minimum is found under these conditions, you can release the fixed parameters and optimize all parameters together. Minuit remembers the last state of the minimization and starts from there. The minimization time roughly scales with the square of the number of parameters. Iterated minimization over subspaces of the parameters can reduce that time.\n",
    "\n",
    "To fix an individual parameter, you use the keyword `fix_<name> = True`. In our example, we fix $x$, like so:"
   ]
  },
  {
   "cell_type": "code",
   "execution_count": 11,
   "metadata": {},
   "outputs": [
    {
     "data": {
      "text/html": [
       "<table>\n",
       "<tr style=\"background-color:#F4F4F4;\"> <td/> <th title=\"Variable name\"> Name </th> <th title=\"Value of parameter\"> Value </th> <th title=\"Hesse error\"> Hesse Error </th> <th title=\"Minos lower error\"> Minos Error- </th> <th title=\"Minos upper error\"> Minos Error+ </th> <th title=\"Lower limit of the parameter\"> Limit- </th> <th title=\"Upper limit of the parameter\"> Limit+ </th> <th title=\"Is the parameter fixed in the fit\"> Fixed </th> </tr>\n",
       "<tr style=\"background-color:#FFFFFF;\"> <th> 0 </th> <td> a </td> <td> 5.00 </td> <td> 0.05 </td> <td>  </td> <td>  </td> <td>  </td> <td>  </td> <td> yes </td> </tr>\n",
       "<tr style=\"background-color:#F4F4F4;\"> <th> 1 </th> <td> b </td> <td> 5.00 </td> <td> 0.05 </td> <td>  </td> <td>  </td> <td>  </td> <td>  </td> <td>  </td> </tr>\n",
       "</table>\n"
      ],
      "text/plain": [
       "------------------------------------------------------------------------------------------\n",
       "|   | Name |   Value   | Hesse Err | Minos Err- | Minos Err+ | Limit-  | Limit+  | Fixed |\n",
       "------------------------------------------------------------------------------------------\n",
       "| 0 | a    |   5.00    |   0.05    |            |            |         |         |  yes  |\n",
       "| 1 | b    |   5.00    |   0.05    |            |            |         |         |       |\n",
       "------------------------------------------------------------------------------------------"
      ]
     },
     "execution_count": 11,
     "metadata": {},
     "output_type": "execute_result"
    }
   ],
   "source": [
    "m = Minuit(least_squares, a=5, b=5, fix_a=True)\n",
    "m.params"
   ]
  },
  {
   "cell_type": "code",
   "execution_count": 12,
   "metadata": {},
   "outputs": [
    {
     "data": {
      "text/html": [
       "<table>\n",
       "<tr> <td colspan=\"2\" style=\"text-align:center\" title=\"Minimum value of function\"> FCN = 4629 </td> <td colspan=\"3\" title=\"No. of calls in last algorithm and total number of calls\"> Ncalls = 11 (11 total) </td> </tr>\n",
       "<tr> <td colspan=\"2\" style=\"text-align:center\" title=\"Estimated distance to minimum and target threshold\"> EDM = 1.09e-16 (Goal: 0.0002) </td> <td colspan=\"3\" title=\"Increase in FCN which corresponds to 1 standard deviation\"> up = 1.0 </td> </tr>\n",
       "<tr> <td title=\"Validity of the migrad call\"> Valid Min. </td> <td title=\"Validity of parameters\"> Valid Param. </td> <td title=\"Is EDM above goal EDM?\"> Above EDM </td> <td colspan=\"2\" title=\"Did last migrad call reach max call limit?\"> Reached call limit </td> </tr>\n",
       "<tr> <td style=\"background-color:#92CCA6;\"> True </td> <td style=\"background-color:#92CCA6;\"> True </td> <td style=\"background-color:#92CCA6;\"> False </td> <td colspan=\"2\" style=\"background-color:#92CCA6;\"> False </td> </tr>\n",
       "<tr> <td title=\"Did Hesse fail?\"> Hesse failed </td> <td title=\"Has covariance matrix\"> Has cov. </td> <td title=\"Is covariance matrix accurate?\"> Accurate </td> <td title=\"Is covariance matrix positive definite?\"> Pos. def. </td> <td title=\"Was positive definiteness enforced by Minuit?\"> Forced </td> </tr>\n",
       "<tr> <td style=\"background-color:#92CCA6;\"> False </td> <td style=\"background-color:#92CCA6;\"> True </td> <td style=\"background-color:#92CCA6;\"> True </td> <td style=\"background-color:#92CCA6;\"> True </td> <td style=\"background-color:#92CCA6;\"> False </td> </tr>\n",
       "</table>\n",
       "<table>\n",
       "<tr style=\"background-color:#F4F4F4;\"> <td/> <th title=\"Variable name\"> Name </th> <th title=\"Value of parameter\"> Value </th> <th title=\"Hesse error\"> Hesse Error </th> <th title=\"Minos lower error\"> Minos Error- </th> <th title=\"Minos upper error\"> Minos Error+ </th> <th title=\"Lower limit of the parameter\"> Limit- </th> <th title=\"Upper limit of the parameter\"> Limit+ </th> <th title=\"Is the parameter fixed in the fit\"> Fixed </th> </tr>\n",
       "<tr style=\"background-color:#FFFFFF;\"> <th> 0 </th> <td> a </td> <td> 5.00 </td> <td> 0.05 </td> <td>  </td> <td>  </td> <td>  </td> <td>  </td> <td> yes </td> </tr>\n",
       "<tr style=\"background-color:#F4F4F4;\"> <th> 1 </th> <td> b </td> <td> -3.71 </td> <td> 0.05 </td> <td>  </td> <td>  </td> <td>  </td> <td>  </td> <td>  </td> </tr>\n",
       "</table>\n"
      ],
      "text/plain": [
       "------------------------------------------------------------------\n",
       "| FCN = 4629                    |      Ncalls=11 (11 total)      |\n",
       "| EDM = 1.09e-16 (Goal: 0.0002) |            up = 1.0            |\n",
       "------------------------------------------------------------------\n",
       "|  Valid Min.   | Valid Param.  | Above EDM | Reached call limit |\n",
       "------------------------------------------------------------------\n",
       "|     True      |     True      |   False   |       False        |\n",
       "------------------------------------------------------------------\n",
       "| Hesse failed  |   Has cov.    | Accurate  | Pos. def. | Forced |\n",
       "------------------------------------------------------------------\n",
       "|     False     |     True      |   True    |   True    | False  |\n",
       "------------------------------------------------------------------\n",
       "------------------------------------------------------------------------------------------\n",
       "|   | Name |   Value   | Hesse Err | Minos Err- | Minos Err+ | Limit-  | Limit+  | Fixed |\n",
       "------------------------------------------------------------------------------------------\n",
       "| 0 | a    |   5.00    |   0.05    |            |            |         |         |  yes  |\n",
       "| 1 | b    |   -3.71   |   0.05    |            |            |         |         |       |\n",
       "------------------------------------------------------------------------------------------"
      ]
     },
     "execution_count": 12,
     "metadata": {},
     "output_type": "execute_result"
    }
   ],
   "source": [
    "# migrad will not vary a, only b\n",
    "m.migrad()"
   ]
  },
  {
   "cell_type": "code",
   "execution_count": 13,
   "metadata": {},
   "outputs": [
    {
     "data": {
      "text/html": [
       "<table>\n",
       "<tr> <td colspan=\"2\" style=\"text-align:center\" title=\"Minimum value of function\"> FCN = 3293 </td> <td colspan=\"3\" title=\"No. of calls in last algorithm and total number of calls\"> Ncalls = 13 (24 total) </td> </tr>\n",
       "<tr> <td colspan=\"2\" style=\"text-align:center\" title=\"Estimated distance to minimum and target threshold\"> EDM = 2.48e-15 (Goal: 0.0002) </td> <td colspan=\"3\" title=\"Increase in FCN which corresponds to 1 standard deviation\"> up = 1.0 </td> </tr>\n",
       "<tr> <td title=\"Validity of the migrad call\"> Valid Min. </td> <td title=\"Validity of parameters\"> Valid Param. </td> <td title=\"Is EDM above goal EDM?\"> Above EDM </td> <td colspan=\"2\" title=\"Did last migrad call reach max call limit?\"> Reached call limit </td> </tr>\n",
       "<tr> <td style=\"background-color:#92CCA6;\"> True </td> <td style=\"background-color:#92CCA6;\"> True </td> <td style=\"background-color:#92CCA6;\"> False </td> <td colspan=\"2\" style=\"background-color:#92CCA6;\"> False </td> </tr>\n",
       "<tr> <td title=\"Did Hesse fail?\"> Hesse failed </td> <td title=\"Has covariance matrix\"> Has cov. </td> <td title=\"Is covariance matrix accurate?\"> Accurate </td> <td title=\"Is covariance matrix positive definite?\"> Pos. def. </td> <td title=\"Was positive definiteness enforced by Minuit?\"> Forced </td> </tr>\n",
       "<tr> <td style=\"background-color:#92CCA6;\"> False </td> <td style=\"background-color:#92CCA6;\"> True </td> <td style=\"background-color:#92CCA6;\"> True </td> <td style=\"background-color:#92CCA6;\"> True </td> <td style=\"background-color:#92CCA6;\"> False </td> </tr>\n",
       "</table>\n",
       "<table>\n",
       "<tr style=\"background-color:#F4F4F4;\"> <td/> <th title=\"Variable name\"> Name </th> <th title=\"Value of parameter\"> Value </th> <th title=\"Hesse error\"> Hesse Error </th> <th title=\"Minos lower error\"> Minos Error- </th> <th title=\"Minos upper error\"> Minos Error+ </th> <th title=\"Lower limit of the parameter\"> Limit- </th> <th title=\"Upper limit of the parameter\"> Limit+ </th> <th title=\"Is the parameter fixed in the fit\"> Fixed </th> </tr>\n",
       "<tr style=\"background-color:#FFFFFF;\"> <th> 0 </th> <td> a </td> <td> 3.844 </td> <td> 0.032 </td> <td>  </td> <td>  </td> <td>  </td> <td>  </td> <td>  </td> </tr>\n",
       "<tr style=\"background-color:#F4F4F4;\"> <th> 1 </th> <td> b </td> <td> -3.71 </td> <td> 0.05 </td> <td>  </td> <td>  </td> <td>  </td> <td>  </td> <td> yes </td> </tr>\n",
       "</table>\n"
      ],
      "text/plain": [
       "------------------------------------------------------------------\n",
       "| FCN = 3293                    |      Ncalls=13 (24 total)      |\n",
       "| EDM = 2.48e-15 (Goal: 0.0002) |            up = 1.0            |\n",
       "------------------------------------------------------------------\n",
       "|  Valid Min.   | Valid Param.  | Above EDM | Reached call limit |\n",
       "------------------------------------------------------------------\n",
       "|     True      |     True      |   False   |       False        |\n",
       "------------------------------------------------------------------\n",
       "| Hesse failed  |   Has cov.    | Accurate  | Pos. def. | Forced |\n",
       "------------------------------------------------------------------\n",
       "|     False     |     True      |   True    |   True    | False  |\n",
       "------------------------------------------------------------------\n",
       "------------------------------------------------------------------------------------------\n",
       "|   | Name |   Value   | Hesse Err | Minos Err- | Minos Err+ | Limit-  | Limit+  | Fixed |\n",
       "------------------------------------------------------------------------------------------\n",
       "| 0 | a    |   3.844   |   0.032   |            |            |         |         |       |\n",
       "| 1 | b    |   -3.71   |   0.05    |            |            |         |         |  yes  |\n",
       "------------------------------------------------------------------------------------------"
      ]
     },
     "execution_count": 13,
     "metadata": {},
     "output_type": "execute_result"
    }
   ],
   "source": [
    "# now we release a and fix b and minimize again\n",
    "m.fixed[\"a\"] = False\n",
    "m.fixed[\"b\"] = True\n",
    "m.migrad()"
   ]
  },
  {
   "cell_type": "code",
   "execution_count": 14,
   "metadata": {},
   "outputs": [
    {
     "data": {
      "text/html": [
       "<table>\n",
       "<tr> <td colspan=\"2\" style=\"text-align:center\" title=\"Minimum value of function\"> FCN = 14.06 </td> <td colspan=\"3\" title=\"No. of calls in last algorithm and total number of calls\"> Ncalls = 27 (51 total) </td> </tr>\n",
       "<tr> <td colspan=\"2\" style=\"text-align:center\" title=\"Estimated distance to minimum and target threshold\"> EDM = 1.65e-13 (Goal: 0.0002) </td> <td colspan=\"3\" title=\"Increase in FCN which corresponds to 1 standard deviation\"> up = 1.0 </td> </tr>\n",
       "<tr> <td title=\"Validity of the migrad call\"> Valid Min. </td> <td title=\"Validity of parameters\"> Valid Param. </td> <td title=\"Is EDM above goal EDM?\"> Above EDM </td> <td colspan=\"2\" title=\"Did last migrad call reach max call limit?\"> Reached call limit </td> </tr>\n",
       "<tr> <td style=\"background-color:#92CCA6;\"> True </td> <td style=\"background-color:#92CCA6;\"> True </td> <td style=\"background-color:#92CCA6;\"> False </td> <td colspan=\"2\" style=\"background-color:#92CCA6;\"> False </td> </tr>\n",
       "<tr> <td title=\"Did Hesse fail?\"> Hesse failed </td> <td title=\"Has covariance matrix\"> Has cov. </td> <td title=\"Is covariance matrix accurate?\"> Accurate </td> <td title=\"Is covariance matrix positive definite?\"> Pos. def. </td> <td title=\"Was positive definiteness enforced by Minuit?\"> Forced </td> </tr>\n",
       "<tr> <td style=\"background-color:#92CCA6;\"> False </td> <td style=\"background-color:#92CCA6;\"> True </td> <td style=\"background-color:#92CCA6;\"> True </td> <td style=\"background-color:#92CCA6;\"> True </td> <td style=\"background-color:#92CCA6;\"> False </td> </tr>\n",
       "</table>\n",
       "<table>\n",
       "<tr style=\"background-color:#F4F4F4;\"> <td/> <th title=\"Variable name\"> Name </th> <th title=\"Value of parameter\"> Value </th> <th title=\"Hesse error\"> Hesse Error </th> <th title=\"Minos lower error\"> Minos Error- </th> <th title=\"Minos upper error\"> Minos Error+ </th> <th title=\"Lower limit of the parameter\"> Limit- </th> <th title=\"Upper limit of the parameter\"> Limit+ </th> <th title=\"Is the parameter fixed in the fit\"> Fixed </th> </tr>\n",
       "<tr style=\"background-color:#FFFFFF;\"> <th> 0 </th> <td> a </td> <td> 1.01 </td> <td> 0.06 </td> <td>  </td> <td>  </td> <td>  </td> <td>  </td> <td>  </td> </tr>\n",
       "<tr style=\"background-color:#F4F4F4;\"> <th> 1 </th> <td> b </td> <td> 1.97 </td> <td> 0.10 </td> <td>  </td> <td>  </td> <td>  </td> <td>  </td> <td>  </td> </tr>\n",
       "</table>\n"
      ],
      "text/plain": [
       "------------------------------------------------------------------\n",
       "| FCN = 14.06                   |      Ncalls=27 (51 total)      |\n",
       "| EDM = 1.65e-13 (Goal: 0.0002) |            up = 1.0            |\n",
       "------------------------------------------------------------------\n",
       "|  Valid Min.   | Valid Param.  | Above EDM | Reached call limit |\n",
       "------------------------------------------------------------------\n",
       "|     True      |     True      |   False   |       False        |\n",
       "------------------------------------------------------------------\n",
       "| Hesse failed  |   Has cov.    | Accurate  | Pos. def. | Forced |\n",
       "------------------------------------------------------------------\n",
       "|     False     |     True      |   True    |   True    | False  |\n",
       "------------------------------------------------------------------\n",
       "------------------------------------------------------------------------------------------\n",
       "|   | Name |   Value   | Hesse Err | Minos Err- | Minos Err+ | Limit-  | Limit+  | Fixed |\n",
       "------------------------------------------------------------------------------------------\n",
       "| 0 | a    |   1.01    |   0.06    |            |            |         |         |       |\n",
       "| 1 | b    |   1.97    |   0.10    |            |            |         |         |       |\n",
       "------------------------------------------------------------------------------------------"
      ]
     },
     "execution_count": 14,
     "metadata": {},
     "output_type": "execute_result"
    }
   ],
   "source": [
    "# we could iterate this and would slowly approach the minimum,\n",
    "# but that's silly; instead we release both parameters and run again\n",
    "m.fixed[:] = False\n",
    "m.migrad()"
   ]
  },
  {
   "cell_type": "markdown",
   "metadata": {},
   "source": [
    "### Varying starting points for minimization\n",
    "\n",
    "It is sometimes useful to change the values of some fixed parameters by hand and fit the others or to restart the fit from another starting point. Let's try that."
   ]
  },
  {
   "cell_type": "code",
   "execution_count": 15,
   "metadata": {},
   "outputs": [
    {
     "data": {
      "text/html": [
       "<table>\n",
       "<tr> <td colspan=\"2\" style=\"text-align:center\" title=\"Minimum value of function\"> FCN = 88.55 </td> <td colspan=\"3\" title=\"No. of calls in last algorithm and total number of calls\"> Ncalls = 8 (59 total) </td> </tr>\n",
       "<tr> <td colspan=\"2\" style=\"text-align:center\" title=\"Estimated distance to minimum and target threshold\"> EDM = 1.63e-16 (Goal: 0.0002) </td> <td colspan=\"3\" title=\"Increase in FCN which corresponds to 1 standard deviation\"> up = 1.0 </td> </tr>\n",
       "<tr> <td title=\"Validity of the migrad call\"> Valid Min. </td> <td title=\"Validity of parameters\"> Valid Param. </td> <td title=\"Is EDM above goal EDM?\"> Above EDM </td> <td colspan=\"2\" title=\"Did last migrad call reach max call limit?\"> Reached call limit </td> </tr>\n",
       "<tr> <td style=\"background-color:#92CCA6;\"> True </td> <td style=\"background-color:#92CCA6;\"> True </td> <td style=\"background-color:#92CCA6;\"> False </td> <td colspan=\"2\" style=\"background-color:#92CCA6;\"> False </td> </tr>\n",
       "<tr> <td title=\"Did Hesse fail?\"> Hesse failed </td> <td title=\"Has covariance matrix\"> Has cov. </td> <td title=\"Is covariance matrix accurate?\"> Accurate </td> <td title=\"Is covariance matrix positive definite?\"> Pos. def. </td> <td title=\"Was positive definiteness enforced by Minuit?\"> Forced </td> </tr>\n",
       "<tr> <td style=\"background-color:#92CCA6;\"> False </td> <td style=\"background-color:#92CCA6;\"> True </td> <td style=\"background-color:#92CCA6;\"> True </td> <td style=\"background-color:#92CCA6;\"> True </td> <td style=\"background-color:#92CCA6;\"> False </td> </tr>\n",
       "</table>\n",
       "<table>\n",
       "<tr style=\"background-color:#F4F4F4;\"> <td/> <th title=\"Variable name\"> Name </th> <th title=\"Value of parameter\"> Value </th> <th title=\"Hesse error\"> Hesse Error </th> <th title=\"Minos lower error\"> Minos Error- </th> <th title=\"Minos upper error\"> Minos Error+ </th> <th title=\"Lower limit of the parameter\"> Limit- </th> <th title=\"Upper limit of the parameter\"> Limit+ </th> <th title=\"Is the parameter fixed in the fit\"> Fixed </th> </tr>\n",
       "<tr style=\"background-color:#FFFFFF;\"> <th> 0 </th> <td> a </td> <td> 0.50 </td> <td> 0.06 </td> <td>  </td> <td>  </td> <td>  </td> <td>  </td> <td> yes </td> </tr>\n",
       "<tr style=\"background-color:#F4F4F4;\"> <th> 1 </th> <td> b </td> <td> 2.69 </td> <td> 0.05 </td> <td>  </td> <td>  </td> <td>  </td> <td>  </td> <td>  </td> </tr>\n",
       "</table>\n"
      ],
      "text/plain": [
       "------------------------------------------------------------------\n",
       "| FCN = 88.55                   |      Ncalls=8 (59 total)       |\n",
       "| EDM = 1.63e-16 (Goal: 0.0002) |            up = 1.0            |\n",
       "------------------------------------------------------------------\n",
       "|  Valid Min.   | Valid Param.  | Above EDM | Reached call limit |\n",
       "------------------------------------------------------------------\n",
       "|     True      |     True      |   False   |       False        |\n",
       "------------------------------------------------------------------\n",
       "| Hesse failed  |   Has cov.    | Accurate  | Pos. def. | Forced |\n",
       "------------------------------------------------------------------\n",
       "|     False     |     True      |   True    |   True    | False  |\n",
       "------------------------------------------------------------------\n",
       "------------------------------------------------------------------------------------------\n",
       "|   | Name |   Value   | Hesse Err | Minos Err- | Minos Err+ | Limit-  | Limit+  | Fixed |\n",
       "------------------------------------------------------------------------------------------\n",
       "| 0 | a    |   0.50    |   0.06    |            |            |         |         |  yes  |\n",
       "| 1 | b    |   2.69    |   0.05    |            |            |         |         |       |\n",
       "------------------------------------------------------------------------------------------"
      ]
     },
     "execution_count": 15,
     "metadata": {},
     "output_type": "execute_result"
    }
   ],
   "source": [
    "m.fixed[\"a\"] = True\n",
    "m.values[\"a\"] = 0.5\n",
    "m.migrad()"
   ]
  },
  {
   "cell_type": "code",
   "execution_count": 16,
   "metadata": {},
   "outputs": [
    {
     "data": {
      "text/html": [
       "<table>\n",
       "<tr> <td colspan=\"2\" style=\"text-align:center\" title=\"Minimum value of function\"> FCN = 14.08 </td> <td colspan=\"3\" title=\"No. of calls in last algorithm and total number of calls\"> Ncalls = 8 (67 total) </td> </tr>\n",
       "<tr> <td colspan=\"2\" style=\"text-align:center\" title=\"Estimated distance to minimum and target threshold\"> EDM = 1.59e-23 (Goal: 0.0002) </td> <td colspan=\"3\" title=\"Increase in FCN which corresponds to 1 standard deviation\"> up = 1.0 </td> </tr>\n",
       "<tr> <td title=\"Validity of the migrad call\"> Valid Min. </td> <td title=\"Validity of parameters\"> Valid Param. </td> <td title=\"Is EDM above goal EDM?\"> Above EDM </td> <td colspan=\"2\" title=\"Did last migrad call reach max call limit?\"> Reached call limit </td> </tr>\n",
       "<tr> <td style=\"background-color:#92CCA6;\"> True </td> <td style=\"background-color:#92CCA6;\"> True </td> <td style=\"background-color:#92CCA6;\"> False </td> <td colspan=\"2\" style=\"background-color:#92CCA6;\"> False </td> </tr>\n",
       "<tr> <td title=\"Did Hesse fail?\"> Hesse failed </td> <td title=\"Has covariance matrix\"> Has cov. </td> <td title=\"Is covariance matrix accurate?\"> Accurate </td> <td title=\"Is covariance matrix positive definite?\"> Pos. def. </td> <td title=\"Was positive definiteness enforced by Minuit?\"> Forced </td> </tr>\n",
       "<tr> <td style=\"background-color:#92CCA6;\"> False </td> <td style=\"background-color:#92CCA6;\"> True </td> <td style=\"background-color:#92CCA6;\"> True </td> <td style=\"background-color:#92CCA6;\"> True </td> <td style=\"background-color:#92CCA6;\"> False </td> </tr>\n",
       "</table>\n",
       "<table>\n",
       "<tr style=\"background-color:#F4F4F4;\"> <td/> <th title=\"Variable name\"> Name </th> <th title=\"Value of parameter\"> Value </th> <th title=\"Hesse error\"> Hesse Error </th> <th title=\"Minos lower error\"> Minos Error- </th> <th title=\"Minos upper error\"> Minos Error+ </th> <th title=\"Lower limit of the parameter\"> Limit- </th> <th title=\"Upper limit of the parameter\"> Limit+ </th> <th title=\"Is the parameter fixed in the fit\"> Fixed </th> </tr>\n",
       "<tr style=\"background-color:#FFFFFF;\"> <th> 0 </th> <td> a </td> <td> 1.00 </td> <td> 0.06 </td> <td>  </td> <td>  </td> <td>  </td> <td>  </td> <td> yes </td> </tr>\n",
       "<tr style=\"background-color:#F4F4F4;\"> <th> 1 </th> <td> b </td> <td> 1.98 </td> <td> 0.05 </td> <td>  </td> <td>  </td> <td>  </td> <td>  </td> <td>  </td> </tr>\n",
       "</table>\n"
      ],
      "text/plain": [
       "------------------------------------------------------------------\n",
       "| FCN = 14.08                   |      Ncalls=8 (67 total)       |\n",
       "| EDM = 1.59e-23 (Goal: 0.0002) |            up = 1.0            |\n",
       "------------------------------------------------------------------\n",
       "|  Valid Min.   | Valid Param.  | Above EDM | Reached call limit |\n",
       "------------------------------------------------------------------\n",
       "|     True      |     True      |   False   |       False        |\n",
       "------------------------------------------------------------------\n",
       "| Hesse failed  |   Has cov.    | Accurate  | Pos. def. | Forced |\n",
       "------------------------------------------------------------------\n",
       "|     False     |     True      |   True    |   True    | False  |\n",
       "------------------------------------------------------------------\n",
       "------------------------------------------------------------------------------------------\n",
       "|   | Name |   Value   | Hesse Err | Minos Err- | Minos Err+ | Limit-  | Limit+  | Fixed |\n",
       "------------------------------------------------------------------------------------------\n",
       "| 0 | a    |   1.00    |   0.06    |            |            |         |         |  yes  |\n",
       "| 1 | b    |   1.98    |   0.05    |            |            |         |         |       |\n",
       "------------------------------------------------------------------------------------------"
      ]
     },
     "execution_count": 16,
     "metadata": {},
     "output_type": "execute_result"
    }
   ],
   "source": [
    "m.values[\"a\"] = 1\n",
    "m.migrad()"
   ]
  },
  {
   "cell_type": "markdown",
   "metadata": {},
   "source": [
    "If the cost function has several minima, changing the starting value can be used to find the other minimum."
   ]
  },
  {
   "cell_type": "code",
   "execution_count": 17,
   "metadata": {},
   "outputs": [
    {
     "data": {
      "image/png": "[encoded data removed]",
      "text/plain": [
       "<Figure size 432x288 with 1 Axes>"
      ]
     },
     "metadata": {
      "needs_background": "light"
     },
     "output_type": "display_data"
    }
   ],
   "source": [
    "def cost_function_with_two_minima(x):\n",
    "    return x ** 4 - x ** 2 + 1\n",
    "\n",
    "x = np.linspace(-1.5, 1.5)\n",
    "plt.plot(x, cost_function_with_two_minima(x));"
   ]
  },
  {
   "cell_type": "code",
   "execution_count": 18,
   "metadata": {},
   "outputs": [
    {
     "name": "stdout",
     "output_type": "stream",
     "text": [
      "starting value -0.1, minimum at -0.7085906080341975\n",
      "starting value +0.1, minimum at 0.708796091342642\n"
     ]
    }
   ],
   "source": [
    "# starting at -0.1 (0.1) will give the left (right) minimum\n",
    "m = Minuit(cost_function_with_two_minima, x=-0.1, errordef=1)\n",
    "m.migrad()\n",
    "print(\"starting value -0.1, minimum at\", m.values[\"x\"])\n",
    "\n",
    "m.values[\"x\"] = 0.1\n",
    "m.migrad()\n",
    "print(\"starting value +0.1, minimum at\", m.values[\"x\"])"
   ]
  },
  {
   "cell_type": "markdown",
   "metadata": {},
   "source": [
    "### Advanced: Error definition\n",
    "\n",
    "If you do not use one of the cost functions from the `iminuit.cost` module, you need to pass an additional parameter to Minuit. Let's go back to the custom least-squares function `least_squares` for a moment and try to initialize with that."
   ]
  },
  {
   "cell_type": "code",
   "execution_count": 19,
   "metadata": {},
   "outputs": [
    {
     "name": "stderr",
     "output_type": "stream",
     "text": [
      "/usr/local/lib/python3.7/site-packages/ipykernel_launcher.py:1: InitialParamWarning: errordef is not given, defaults to 1.\n",
      "  \"\"\"Entry point for launching an IPython kernel.\n"
     ]
    }
   ],
   "source": [
    "m = Minuit(custom_least_squares, a=5, b=5) # pass starting values for a and b"
   ]
  },
  {
   "cell_type": "markdown",
   "metadata": {},
   "source": [
    "Minuit now warns about its default value for the `errordef` keyword, which may not be appropriate. Setting this is not needed for the builtin cost function from `iminuit.cost`, but for custom cost functions.\n",
    "\n",
    "The `errordef` keyword is needed to get correct uncertainties from Minuit. In statistical problems, there are two kinds of cost functions to minimize, the *negative log-likelihood* and the *least-squares* function. Each has a corresponding value for `errordef`:\n",
    " - `0.5` or the constant `Minuit.LIKELIHOOD` for negative log-likelihood functions \n",
    " - `1` or the constant `Minuit.LEAST_SQUARES` for least-squares functions \n",
    "\n",
    "The origin of these numbers is not too complicated, but cannot be explained briefly. If you are curious, have a look into the tutorial \"Error computation with HESSE and MINOS\", which explains in depth how uncertainties are computed and where this value comes from.\n",
    "\n",
    "If you don't care about uncertainty estimates (but why are you using Minuit then?), just use the default `errordef=1`.\n",
    "\n",
    "For our custom cost function, we need to pass `errordef=1` or `errordef=Minuit.LEAST_SQUARES`, because it is of the least-squares type. If we do that, the warning disappears."
   ]
  },
  {
   "cell_type": "code",
   "execution_count": 20,
   "metadata": {},
   "outputs": [],
   "source": [
    "m = Minuit(custom_least_squares, a=5, b=5, errordef=Minuit.LEAST_SQUARES)"
   ]
  },
  {
   "cell_type": "markdown",
   "metadata": {},
   "source": [
    "Hint: If you add an attribute called `errordef` to your cost function, Minuit will use that. That's how the builtin cost functions allow to skip setting it."
   ]
  },
  {
   "cell_type": "markdown",
   "metadata": {},
   "source": [
    "### Advanced: Initial step sizes\n",
    "\n",
    "Minuit uses a gradient-descent method to find the minimum and the gradient is computed numerically using finite differences. The initial step size is used to compute the first gradient. A good step size is small compared to the curvature of the function, but large compared to numerical resolution. Using a good step size can slightly accelerate the convergence, but Minuit is not very sensitive to the choice. If you don't provide a value, iminuit will guess a step size based on a heuristic.\n",
    "\n",
    "You can set initital step sizes with keywords, `error_<name> = <step size>`. Using an appropriate step size is important when you have you a parameter which has physical bounds. Varying the initial parameter value by the step size may not create a situation where the parameter goes outside of its bounds. For example, a parameter $x$ with $x > 0$ and initital value $0.1$ may not have a step size of $0.2$.\n",
    "\n",
    "In our example, we could use an initital step size of $\\Delta a = \\Delta b = 0.1$."
   ]
  },
  {
   "cell_type": "code",
   "execution_count": 21,
   "metadata": {},
   "outputs": [],
   "source": [
    "m = Minuit(least_squares, a=5, b=5, error_a=0.1, error_b=0.1)"
   ]
  },
  {
   "cell_type": "markdown",
   "metadata": {},
   "source": [
    "### Advanced: Override paramater name detection\n",
    "\n",
    "iminuit tries hard to detect the parameter names and is pretty good at it. For example, if you pass a functor instead of a function, it will use the arguments of the `__call__` method, automatically skipping `self`.\n",
    "\n",
    "You can check which parameter names iminuit finds for your function with the `describe` function."
   ]
  },
  {
   "cell_type": "code",
   "execution_count": 22,
   "metadata": {},
   "outputs": [],
   "source": [
    "from iminuit import describe\n",
    "\n",
    "def foo(x, y, z): pass\n",
    "assert describe(foo) == ['x', 'y', 'z']\n",
    "\n",
    "class Foo:\n",
    "    def __call__(self, a, b):\n",
    "        pass\n",
    "\n",
    "assert describe(Foo()) == ['a', 'b']"
   ]
  },
  {
   "cell_type": "markdown",
   "metadata": {},
   "source": [
    "This works very well, but the parameter names cannot always be determined. For example, in case of functions which accept a variable number of arguments."
   ]
  },
  {
   "cell_type": "code",
   "execution_count": 23,
   "metadata": {},
   "outputs": [
    {
     "name": "stderr",
     "output_type": "stream",
     "text": [
      "Traceback (most recent call last):\n",
      "  File \"<ipython-input-23-467b3a978ace>\", line 5, in <module>\n",
      "    describe(bar)  # this will raise a TypeError\n",
      "  File \"/Users/hdembinski/Extern/iminuit/src/iminuit/util.py\", line 404, in describe\n",
      "    raise TypeError(\"Unable to obtain function signature\")\n",
      "TypeError: Unable to obtain function signature\n"
     ]
    }
   ],
   "source": [
    "def bar(*args):  # function with variable number of arguments\n",
    "    return np.sum((np.array(args) - 1) ** 2)\n",
    "\n",
    "try:\n",
    "    describe(bar)  # this will raise a TypeError\n",
    "except TypeError as e:\n",
    "    import traceback as tb\n",
    "    tb.print_exc()"
   ]
  },
  {
   "cell_type": "markdown",
   "metadata": {},
   "source": [
    "A `TypeError` is raised, because `describe` cannot detect the number and names of the parameters in this case. If you work with functions that accept a variable number of arguments a lot, we recommend to use a cost function which accepts a parameter array, as explained in the next section.\n",
    "\n",
    "When iminuit cannot detect the arguments, but you know how many arguments there are, or if you simply want to override the names found by iminuit, you can do that with the keyword `name`, like so:"
   ]
  },
  {
   "cell_type": "code",
   "execution_count": 24,
   "metadata": {},
   "outputs": [
    {
     "data": {
      "text/html": [
       "<table>\n",
       "<tr> <td colspan=\"2\" style=\"text-align:center\" title=\"Minimum value of function\"> FCN = 2.867e-19 </td> <td colspan=\"3\" title=\"No. of calls in last algorithm and total number of calls\"> Ncalls = 24 (24 total) </td> </tr>\n",
       "<tr> <td colspan=\"2\" style=\"text-align:center\" title=\"Estimated distance to minimum and target threshold\"> EDM = 2.87e-19 (Goal: 0.0002) </td> <td colspan=\"3\" title=\"Increase in FCN which corresponds to 1 standard deviation\"> up = 1.0 </td> </tr>\n",
       "<tr> <td title=\"Validity of the migrad call\"> Valid Min. </td> <td title=\"Validity of parameters\"> Valid Param. </td> <td title=\"Is EDM above goal EDM?\"> Above EDM </td> <td colspan=\"2\" title=\"Did last migrad call reach max call limit?\"> Reached call limit </td> </tr>\n",
       "<tr> <td style=\"background-color:#92CCA6;\"> True </td> <td style=\"background-color:#92CCA6;\"> True </td> <td style=\"background-color:#92CCA6;\"> False </td> <td colspan=\"2\" style=\"background-color:#92CCA6;\"> False </td> </tr>\n",
       "<tr> <td title=\"Did Hesse fail?\"> Hesse failed </td> <td title=\"Has covariance matrix\"> Has cov. </td> <td title=\"Is covariance matrix accurate?\"> Accurate </td> <td title=\"Is covariance matrix positive definite?\"> Pos. def. </td> <td title=\"Was positive definiteness enforced by Minuit?\"> Forced </td> </tr>\n",
       "<tr> <td style=\"background-color:#92CCA6;\"> False </td> <td style=\"background-color:#92CCA6;\"> True </td> <td style=\"background-color:#92CCA6;\"> True </td> <td style=\"background-color:#92CCA6;\"> True </td> <td style=\"background-color:#92CCA6;\"> False </td> </tr>\n",
       "</table>\n",
       "<table>\n",
       "<tr style=\"background-color:#F4F4F4;\"> <td/> <th title=\"Variable name\"> Name </th> <th title=\"Value of parameter\"> Value </th> <th title=\"Hesse error\"> Hesse Error </th> <th title=\"Minos lower error\"> Minos Error- </th> <th title=\"Minos upper error\"> Minos Error+ </th> <th title=\"Lower limit of the parameter\"> Limit- </th> <th title=\"Upper limit of the parameter\"> Limit+ </th> <th title=\"Is the parameter fixed in the fit\"> Fixed </th> </tr>\n",
       "<tr style=\"background-color:#FFFFFF;\"> <th> 0 </th> <td> a </td> <td> 1 </td> <td> 1 </td> <td>  </td> <td>  </td> <td>  </td> <td>  </td> <td>  </td> </tr>\n",
       "<tr style=\"background-color:#F4F4F4;\"> <th> 1 </th> <td> b </td> <td> 1 </td> <td> 1 </td> <td>  </td> <td>  </td> <td>  </td> <td>  </td> <td>  </td> </tr>\n",
       "</table>\n"
      ],
      "text/plain": [
       "------------------------------------------------------------------\n",
       "| FCN = 2.867e-19               |      Ncalls=24 (24 total)      |\n",
       "| EDM = 2.87e-19 (Goal: 0.0002) |            up = 1.0            |\n",
       "------------------------------------------------------------------\n",
       "|  Valid Min.   | Valid Param.  | Above EDM | Reached call limit |\n",
       "------------------------------------------------------------------\n",
       "|     True      |     True      |   False   |       False        |\n",
       "------------------------------------------------------------------\n",
       "| Hesse failed  |   Has cov.    | Accurate  | Pos. def. | Forced |\n",
       "------------------------------------------------------------------\n",
       "|     False     |     True      |   True    |   True    | False  |\n",
       "------------------------------------------------------------------\n",
       "------------------------------------------------------------------------------------------\n",
       "|   | Name |   Value   | Hesse Err | Minos Err- | Minos Err+ | Limit-  | Limit+  | Fixed |\n",
       "------------------------------------------------------------------------------------------\n",
       "| 0 | a    |     1     |     1     |            |            |         |         |       |\n",
       "| 1 | b    |     1     |     1     |            |            |         |         |       |\n",
       "------------------------------------------------------------------------------------------"
      ]
     },
     "execution_count": 24,
     "metadata": {},
     "output_type": "execute_result"
    }
   ],
   "source": [
    "m = Minuit(bar, name=('a', 'b'), a=1, b=2, errordef=1)\n",
    "m.migrad()"
   ]
  },
  {
   "cell_type": "markdown",
   "metadata": {},
   "source": [
    "### Alternative initialization with vectorized functions\n",
    "\n",
    "You can also use iminuit with functions that accept numpy arrays. This has pros and cons.\n",
    "\n",
    "**Pros**\n",
    "- Easy to change number of fitted parameters\n",
    "- Sometimes simpler function body that's easier to read\n",
    "- Slightly more efficient, although this is probably not noticable unless you have >100 parameters\n",
    "\n",
    "**Cons**\n",
    "- iminuit cannot figure out names for each parameter\n",
    "\n",
    "To demonstrate, use a version of the line model which accepts the parameters as a numpy array."
   ]
  },
  {
   "cell_type": "code",
   "execution_count": 25,
   "metadata": {},
   "outputs": [],
   "source": [
    "def line_np(x, par):\n",
    "    return np.polyval(par, x) # for par = (a, b) this is a line"
   ]
  },
  {
   "cell_type": "markdown",
   "metadata": {},
   "source": [
    "Calling `line_np` with more or less arguments is easy and will use a polynomial of the corresponding order predict the behavior of the data. This is handy. \n",
    "\n",
    "Such a model works with the builtin cost functions, but we need to use the method `Minuit.from_array_func` to pass it:"
   ]
  },
  {
   "cell_type": "code",
   "execution_count": 26,
   "metadata": {},
   "outputs": [
    {
     "data": {
      "text/html": [
       "<table>\n",
       "<tr style=\"background-color:#F4F4F4;\"> <td/> <th title=\"Variable name\"> Name </th> <th title=\"Value of parameter\"> Value </th> <th title=\"Hesse error\"> Hesse Error </th> <th title=\"Minos lower error\"> Minos Error- </th> <th title=\"Minos upper error\"> Minos Error+ </th> <th title=\"Lower limit of the parameter\"> Limit- </th> <th title=\"Upper limit of the parameter\"> Limit+ </th> <th title=\"Is the parameter fixed in the fit\"> Fixed </th> </tr>\n",
       "<tr style=\"background-color:#FFFFFF;\"> <th> 0 </th> <td> x0 </td> <td> 5.00 </td> <td> 0.05 </td> <td>  </td> <td>  </td> <td>  </td> <td>  </td> <td>  </td> </tr>\n",
       "<tr style=\"background-color:#F4F4F4;\"> <th> 1 </th> <td> x1 </td> <td> 5.00 </td> <td> 0.05 </td> <td>  </td> <td>  </td> <td>  </td> <td>  </td> <td>  </td> </tr>\n",
       "</table>\n"
      ],
      "text/plain": [
       "------------------------------------------------------------------------------------------\n",
       "|   | Name |   Value   | Hesse Err | Minos Err- | Minos Err+ | Limit-  | Limit+  | Fixed |\n",
       "------------------------------------------------------------------------------------------\n",
       "| 0 | x0   |   5.00    |   0.05    |            |            |         |         |       |\n",
       "| 1 | x1   |   5.00    |   0.05    |            |            |         |         |       |\n",
       "------------------------------------------------------------------------------------------"
      ]
     },
     "execution_count": 26,
     "metadata": {},
     "output_type": "execute_result"
    }
   ],
   "source": [
    "least_squares_np = LeastSquares(data_x, data_y, data_yerr, line_np)\n",
    "\n",
    "m = Minuit.from_array_func(least_squares_np, (5, 5))\n",
    "m.params"
   ]
  },
  {
   "cell_type": "markdown",
   "metadata": {},
   "source": [
    "The first argument after the function in `Minuit.from_array_func` is the array of starting values. Any sequence will do here. iminuit uses its length to detect how many parameters the model has.\n",
    "\n",
    "One can use the keywords `limit`, `fix`, and `error` to set parameter limits, fix parameters, or set initial step sizes. These must be sequences with the same length as the starting point. For `error` and `limit`, it is also allowed to give a single step size or a single limit, which is then used for all parameters.\n",
    "\n",
    "By default, the parameters are named automatically `x0` to `xN`. One can override this with the keyword `name`, passing a sequence of parameter names."
   ]
  },
  {
   "cell_type": "code",
   "execution_count": 27,
   "metadata": {},
   "outputs": [
    {
     "data": {
      "text/html": [
       "<table>\n",
       "<tr style=\"background-color:#F4F4F4;\"> <td/> <th title=\"Variable name\"> Name </th> <th title=\"Value of parameter\"> Value </th> <th title=\"Hesse error\"> Hesse Error </th> <th title=\"Minos lower error\"> Minos Error- </th> <th title=\"Minos upper error\"> Minos Error+ </th> <th title=\"Lower limit of the parameter\"> Limit- </th> <th title=\"Upper limit of the parameter\"> Limit+ </th> <th title=\"Is the parameter fixed in the fit\"> Fixed </th> </tr>\n",
       "<tr style=\"background-color:#FFFFFF;\"> <th> 0 </th> <td> a </td> <td> 5.00 </td> <td> 0.05 </td> <td>  </td> <td>  </td> <td> 0 </td> <td>  </td> <td> yes </td> </tr>\n",
       "<tr style=\"background-color:#F4F4F4;\"> <th> 1 </th> <td> b </td> <td> 5.00 </td> <td> 0.05 </td> <td>  </td> <td>  </td> <td> 0 </td> <td> 10 </td> <td>  </td> </tr>\n",
       "</table>\n"
      ],
      "text/plain": [
       "------------------------------------------------------------------------------------------\n",
       "|   | Name |   Value   | Hesse Err | Minos Err- | Minos Err+ | Limit-  | Limit+  | Fixed |\n",
       "------------------------------------------------------------------------------------------\n",
       "| 0 | a    |   5.00    |   0.05    |            |            |    0    |         |  yes  |\n",
       "| 1 | b    |   5.00    |   0.05    |            |            |    0    |   10    |       |\n",
       "------------------------------------------------------------------------------------------"
      ]
     },
     "execution_count": 27,
     "metadata": {},
     "output_type": "execute_result"
    }
   ],
   "source": [
    "m = Minuit.from_array_func(least_squares_np, (5, 5), fix=(True, False),\n",
    "                           limit=((0, None), (0, 10)),\n",
    "                           name=(\"a\", \"b\"))\n",
    "m.params"
   ]
  },
  {
   "cell_type": "markdown",
   "metadata": {},
   "source": [
    "Since `least_squares_np` works for parameter arrays of any length, one can easily change the number of fitted parameters."
   ]
  },
  {
   "cell_type": "code",
   "execution_count": 28,
   "metadata": {},
   "outputs": [
    {
     "data": {
      "text/html": [
       "<table>\n",
       "<tr style=\"background-color:#F4F4F4;\"> <td/> <th title=\"Variable name\"> Name </th> <th title=\"Value of parameter\"> Value </th> <th title=\"Hesse error\"> Hesse Error </th> <th title=\"Minos lower error\"> Minos Error- </th> <th title=\"Minos upper error\"> Minos Error+ </th> <th title=\"Lower limit of the parameter\"> Limit- </th> <th title=\"Upper limit of the parameter\"> Limit+ </th> <th title=\"Is the parameter fixed in the fit\"> Fixed </th> </tr>\n",
       "<tr style=\"background-color:#FFFFFF;\"> <th> 0 </th> <td> x0 </td> <td> 5.00 </td> <td> 0.05 </td> <td>  </td> <td>  </td> <td>  </td> <td>  </td> <td>  </td> </tr>\n",
       "<tr style=\"background-color:#F4F4F4;\"> <th> 1 </th> <td> x1 </td> <td> 5.00 </td> <td> 0.05 </td> <td>  </td> <td>  </td> <td>  </td> <td>  </td> <td>  </td> </tr>\n",
       "<tr style=\"background-color:#FFFFFF;\"> <th> 2 </th> <td> x2 </td> <td> 5.00 </td> <td> 0.05 </td> <td>  </td> <td>  </td> <td>  </td> <td>  </td> <td>  </td> </tr>\n",
       "<tr style=\"background-color:#F4F4F4;\"> <th> 3 </th> <td> x3 </td> <td> 5.00 </td> <td> 0.05 </td> <td>  </td> <td>  </td> <td>  </td> <td>  </td> <td>  </td> </tr>\n",
       "</table>\n"
      ],
      "text/plain": [
       "------------------------------------------------------------------------------------------\n",
       "|   | Name |   Value   | Hesse Err | Minos Err- | Minos Err+ | Limit-  | Limit+  | Fixed |\n",
       "------------------------------------------------------------------------------------------\n",
       "| 0 | x0   |   5.00    |   0.05    |            |            |         |         |       |\n",
       "| 1 | x1   |   5.00    |   0.05    |            |            |         |         |       |\n",
       "| 2 | x2   |   5.00    |   0.05    |            |            |         |         |       |\n",
       "| 3 | x3   |   5.00    |   0.05    |            |            |         |         |       |\n",
       "------------------------------------------------------------------------------------------"
      ]
     },
     "execution_count": 28,
     "metadata": {},
     "output_type": "execute_result"
    }
   ],
   "source": [
    "# fit a forth order polynomial\n",
    "m = Minuit.from_array_func(least_squares_np, (5, 5, 5, 5))\n",
    "m.params"
   ]
  },
  {
   "cell_type": "markdown",
   "metadata": {},
   "source": [
    "It is often useful to try different orders of a polynomial model. If the order is too small, the polynomial will not follow the data. If it is too large, it will overfit the data and pick up random fluctuations and not the underlying trend. One can figure out the right order by experimenting or using an algorithm like cross-validation."
   ]
  },
  {
   "cell_type": "markdown",
   "metadata": {},
   "source": [
    "### Alternative interface: iminuit.minimize\n",
    "\n",
    "Those familiar with scipy may find the `minimize` function useful. It exactly mimics the function interface of `scipy.optimize.minimize`, but uses `Minuit` for the actual minimization. The `scipy` package is needed to use it."
   ]
  },
  {
   "cell_type": "code",
   "execution_count": 29,
   "metadata": {},
   "outputs": [
    {
     "data": {
      "text/plain": [
       "      fun: 14.064905067721476\n",
       " hess_inv: array([[ 0.00490909, -0.00245455],\n",
       "       [-0.00245455,  0.00172727]])\n",
       "  message: 'Optimization terminated successfully.'\n",
       "   minuit: <iminuit._libiminuit.Minuit object at 0x7f9ceb167950>\n",
       "     nfev: 36\n",
       "     njev: 0\n",
       "  success: True\n",
       "        x: array([1.96603643, 1.00726769])"
      ]
     },
     "execution_count": 29,
     "metadata": {},
     "output_type": "execute_result"
    }
   ],
   "source": [
    "from iminuit import minimize  # has same interface as scipy.optimize.minimize\n",
    "minimize(least_squares_np, (5, 5))"
   ]
  },
  {
   "cell_type": "markdown",
   "metadata": {},
   "source": [
    "## Minimizing the cost function\n",
    "\n",
    "Calling `Minuit.migrad()` runs the actual minimization with the Migrad algorithm. Migrad essentially tries a Newton-step and if that does not produce a smaller function value, it tries a line search along the direction of the gradient. So far so ordinary. The clever bits in Migrad are how various pathological cases are handled.\n",
    "\n",
    "Let's look at the output of `Minuit.migrad()`."
   ]
  },
  {
   "cell_type": "code",
   "execution_count": 30,
   "metadata": {
    "scrolled": true
   },
   "outputs": [
    {
     "data": {
      "text/html": [
       "<table>\n",
       "<tr> <td colspan=\"2\" style=\"text-align:center\" title=\"Minimum value of function\"> FCN = 14.06 </td> <td colspan=\"3\" title=\"No. of calls in last algorithm and total number of calls\"> Ncalls = 30 (30 total) </td> </tr>\n",
       "<tr> <td colspan=\"2\" style=\"text-align:center\" title=\"Estimated distance to minimum and target threshold\"> EDM = 3.63e-22 (Goal: 0.0002) </td> <td colspan=\"3\" title=\"Increase in FCN which corresponds to 1 standard deviation\"> up = 1.0 </td> </tr>\n",
       "<tr> <td title=\"Validity of the migrad call\"> Valid Min. </td> <td title=\"Validity of parameters\"> Valid Param. </td> <td title=\"Is EDM above goal EDM?\"> Above EDM </td> <td colspan=\"2\" title=\"Did last migrad call reach max call limit?\"> Reached call limit </td> </tr>\n",
       "<tr> <td style=\"background-color:#92CCA6;\"> True </td> <td style=\"background-color:#92CCA6;\"> True </td> <td style=\"background-color:#92CCA6;\"> False </td> <td colspan=\"2\" style=\"background-color:#92CCA6;\"> False </td> </tr>\n",
       "<tr> <td title=\"Did Hesse fail?\"> Hesse failed </td> <td title=\"Has covariance matrix\"> Has cov. </td> <td title=\"Is covariance matrix accurate?\"> Accurate </td> <td title=\"Is covariance matrix positive definite?\"> Pos. def. </td> <td title=\"Was positive definiteness enforced by Minuit?\"> Forced </td> </tr>\n",
       "<tr> <td style=\"background-color:#92CCA6;\"> False </td> <td style=\"background-color:#92CCA6;\"> True </td> <td style=\"background-color:#92CCA6;\"> True </td> <td style=\"background-color:#92CCA6;\"> True </td> <td style=\"background-color:#92CCA6;\"> False </td> </tr>\n",
       "</table>\n",
       "<table>\n",
       "<tr style=\"background-color:#F4F4F4;\"> <td/> <th title=\"Variable name\"> Name </th> <th title=\"Value of parameter\"> Value </th> <th title=\"Hesse error\"> Hesse Error </th> <th title=\"Minos lower error\"> Minos Error- </th> <th title=\"Minos upper error\"> Minos Error+ </th> <th title=\"Lower limit of the parameter\"> Limit- </th> <th title=\"Upper limit of the parameter\"> Limit+ </th> <th title=\"Is the parameter fixed in the fit\"> Fixed </th> </tr>\n",
       "<tr style=\"background-color:#FFFFFF;\"> <th> 0 </th> <td> a </td> <td> 1.01 </td> <td> 0.06 </td> <td>  </td> <td>  </td> <td>  </td> <td>  </td> <td>  </td> </tr>\n",
       "<tr style=\"background-color:#F4F4F4;\"> <th> 1 </th> <td> b </td> <td> 1.97 </td> <td> 0.10 </td> <td>  </td> <td>  </td> <td>  </td> <td>  </td> <td>  </td> </tr>\n",
       "</table>\n"
      ],
      "text/plain": [
       "------------------------------------------------------------------\n",
       "| FCN = 14.06                   |      Ncalls=30 (30 total)      |\n",
       "| EDM = 3.63e-22 (Goal: 0.0002) |            up = 1.0            |\n",
       "------------------------------------------------------------------\n",
       "|  Valid Min.   | Valid Param.  | Above EDM | Reached call limit |\n",
       "------------------------------------------------------------------\n",
       "|     True      |     True      |   False   |       False        |\n",
       "------------------------------------------------------------------\n",
       "| Hesse failed  |   Has cov.    | Accurate  | Pos. def. | Forced |\n",
       "------------------------------------------------------------------\n",
       "|     False     |     True      |   True    |   True    | False  |\n",
       "------------------------------------------------------------------\n",
       "------------------------------------------------------------------------------------------\n",
       "|   | Name |   Value   | Hesse Err | Minos Err- | Minos Err+ | Limit-  | Limit+  | Fixed |\n",
       "------------------------------------------------------------------------------------------\n",
       "| 0 | a    |   1.01    |   0.06    |            |            |         |         |       |\n",
       "| 1 | b    |   1.97    |   0.10    |            |            |         |         |       |\n",
       "------------------------------------------------------------------------------------------"
      ]
     },
     "execution_count": 30,
     "metadata": {},
     "output_type": "execute_result"
    }
   ],
   "source": [
    "m = Minuit(least_squares, a=5, b=5)\n",
    "m.migrad()"
   ]
  },
  {
   "cell_type": "markdown",
   "metadata": {},
   "source": [
    "The method returns two dict-like objects, which contain information about the function minimum and the parameter state. In a notebook, these objects are pretty-printed as tables. This is good for a quick check:\n",
    "\n",
    "- All blocks should be green.\n",
    "- Red means something bad. \n",
    "- Yellow may be bad or not.\n",
    "\n",
    "Let's look at the actual object. The first is the function minimum `fmin`:"
   ]
  },
  {
   "cell_type": "code",
   "execution_count": 31,
   "metadata": {},
   "outputs": [
    {
     "name": "stdout",
     "output_type": "stream",
     "text": [
      "FMin(fval=14.064905067721469, edm=3.6324929065380277e-22, tolerance=0.1, nfcn=30, ncalls=30, up=1.0, is_valid=True, has_valid_parameters=True, has_accurate_covar=True, has_posdef_covar=True, has_made_posdef_covar=False, hesse_failed=False, has_covariance=True, is_above_max_edm=False, has_reached_call_limit=False)\n"
     ]
    }
   ],
   "source": [
    "print(repr(m.fmin)) # use repr() to avoid pretty printing"
   ]
  },
  {
   "cell_type": "markdown",
   "metadata": {},
   "source": [
    "The most important one here is `is_valid`. If this is false, the fit did not converge and the result is useless. If that happens, there can be many reasons.\n",
    "\n",
    "- The fit function is not analytical everywhere in the parameter space or does not have a local minimum (the minimum may be at infinity, the extremum may be a saddle point or maximum). Indicators for this are `is_above_max_edm=True`, `hesse_failed=True`, `has_posdef_covar=False`, or `has_made_posdef_covar=True`.\n",
    "- Migrad reached the call limit before the convergence so that `has_reached_call_limit=True`. The used number of function calls is `nfcn`, and the call limit can be changed with the keyword argument `ncall` in the method  `Minuit.migrad`. Note that `nfcn` can be slightly larger than `ncall`, because Migrad internally only checks this condition after a full iteration step, in which several function calls can happen.\n",
    "\n",
    "Migrad detects convergence by a small `edm` value, the *estimated distance to minimum*. This is the difference between the current minimum value of the minimized function and the next prediction based on a local quadratic approximation of the function (something that Migrad computes as part of its algorithm). If the fit did not converge, `is_above_max_edm` is true.\n",
    "\n",
    "If you are interested in parameter uncertainties, you should make sure that:\n",
    "\n",
    "- `has_covariance`, `has_accurate_covar`, and `has_posdef_covar` are true.\n",
    "- `has_made_posdef_covar` and `hesse_failed` are false.\n",
    "\n",
    "The second object of interest after the fit is the parameter list, which we already know."
   ]
  },
  {
   "cell_type": "code",
   "execution_count": 32,
   "metadata": {
    "scrolled": true
   },
   "outputs": [
    {
     "name": "stdout",
     "output_type": "stream",
     "text": [
      "[Param(number=0, name='a', value=1.0072676945409573, error=0.05877538171220624, is_const=False, is_fixed=False, has_limits=False, has_lower_limit=False, has_upper_limit=False, lower_limit=None, upper_limit=None), Param(number=1, name='b', value=1.9660364327570037, error=0.09908673936859917, is_const=False, is_fixed=False, has_limits=False, has_lower_limit=False, has_upper_limit=False, lower_limit=None, upper_limit=None)]\n"
     ]
    }
   ],
   "source": [
    "print(repr(m.params)) # use repr() to avoid pretty printing"
   ]
  },
  {
   "cell_type": "markdown",
   "metadata": {},
   "source": [
    "This is a list of dict-like `Param` objects which contain information about the fitted parameters. Important fields are:\n",
    "- `number`: parameter index.\n",
    "- `name`: parameter name.\n",
    "- `value`: value of the parameter at the minimum.\n",
    "- `error`: uncertainty estimate for the parameter value.\n",
    "\n",
    "Whether the uncertainty estimate is accurate depends on the correct mathematical modeling of your fitting problem and using the right `errordef` value for Minuit. What do we mean by correct mathematical modelling? If you look into the function `simple_least_squares(a, b)`, you see that each squared residuals is divided by the expected variance of the residual. This is necessary to get accurate uncertainty estimates for the parameters.\n",
    "\n",
    "Sometimes the expected variance of the residual is not well known. If the function to minimize is a least-squares function, there is a simple test to check whether the residual variances are ok. One should look at the function value at the minimum, here given by `fmin.fval`, and divide it by the difference of the number of residuals and the number of fitted parameters, which can be conveniently queried with the attribute `nfit`. This is so-called reduced chi2."
   ]
  },
  {
   "cell_type": "code",
   "execution_count": 33,
   "metadata": {},
   "outputs": [
    {
     "data": {
      "text/plain": [
       "1.7581131334651836"
      ]
     },
     "execution_count": 33,
     "metadata": {},
     "output_type": "execute_result"
    }
   ],
   "source": [
    "m.fval / (len(data_y) - m.nfit)  # reduced chi2"
   ]
  },
  {
   "cell_type": "markdown",
   "metadata": {},
   "source": [
    "This value should be around 1. The more data points one has, the closer. If the value is much larger than 1, then the data variance is underestimated or the model does not describe the data. If the value is much smaller than 1, then the data variance is overestimated (perhaps because of positive correlations between the fluctuations of the data values).\n",
    "\n",
    "##  Parameter uncertainties, covariances, and confidence intervals\n",
    "\n",
    "You saw how to get the uncertainty of each individual parameter, but parameters are usually correlated. This is essential additional information if you want to work with parameter uncertainties seriously. We will discuss next how you access that.\n",
    "\n",
    "Minuit offers two ways to compute the parameter uncertainties, Hesse and Minos. Both have pros and cons."
   ]
  },
  {
   "cell_type": "markdown",
   "metadata": {},
   "source": [
    "### Hesse for covariance and correlation matrices\n",
    "\n",
    "The Hesse algorithm numerically computes the matrix of second derivatives at the function minimum (called the Hesse matrix) and inverts it. The Hesse matrix is symmetric by construction. In the limit of infinite data samples to fit, the result of this computation converges to the true covariance matrix of the parameters. It often is already a good approximation even for finite statistic. These errors obtained from this method are sometimes called *parabolic errors*, because the Hesse matrix method is exact if the function is a hyperparabola (third and higher-order derivatives are all zero).\n",
    "\n",
    "Pros:\n",
    "- (Comparably) fast computation.\n",
    "- Provides covariance matrix for error propagation.\n",
    "\n",
    "Cons:\n",
    "- May not have good coverage probability when sample size is small\n",
    "\n",
    "The Migrad algorithm computes an approximation of the Hesse matrix automatically during minimization. When the default strategy is used, Minuit does a check whether this approximation is sufficiently accurate and if not, it computes the Hesse matrix automatically.\n",
    "\n",
    "All this happens inside C++ Minuit and is a bit intransparent, so to be on the safe side, we recommend to call `Minuit.hesse` explicitly after the minimization, if exact errors are important."
   ]
  },
  {
   "cell_type": "code",
   "execution_count": 34,
   "metadata": {},
   "outputs": [
    {
     "data": {
      "text/html": [
       "<table>\n",
       "<tr style=\"background-color:#F4F4F4;\"> <td/> <th title=\"Variable name\"> Name </th> <th title=\"Value of parameter\"> Value </th> <th title=\"Hesse error\"> Hesse Error </th> <th title=\"Minos lower error\"> Minos Error- </th> <th title=\"Minos upper error\"> Minos Error+ </th> <th title=\"Lower limit of the parameter\"> Limit- </th> <th title=\"Upper limit of the parameter\"> Limit+ </th> <th title=\"Is the parameter fixed in the fit\"> Fixed </th> </tr>\n",
       "<tr style=\"background-color:#FFFFFF;\"> <th> 0 </th> <td> a </td> <td> 1.01 </td> <td> 0.16 </td> <td>  </td> <td>  </td> <td>  </td> <td>  </td> <td>  </td> </tr>\n",
       "<tr style=\"background-color:#F4F4F4;\"> <th> 1 </th> <td> b </td> <td> 1.97 </td> <td> 0.20 </td> <td>  </td> <td>  </td> <td>  </td> <td>  </td> <td>  </td> </tr>\n",
       "</table>\n"
      ],
      "text/plain": [
       "------------------------------------------------------------------------------------------\n",
       "|   | Name |   Value   | Hesse Err | Minos Err- | Minos Err+ | Limit-  | Limit+  | Fixed |\n",
       "------------------------------------------------------------------------------------------\n",
       "| 0 | a    |   1.01    |   0.16    |            |            |         |         |       |\n",
       "| 1 | b    |   1.97    |   0.20    |            |            |         |         |       |\n",
       "------------------------------------------------------------------------------------------"
      ]
     },
     "execution_count": 34,
     "metadata": {},
     "output_type": "execute_result"
    }
   ],
   "source": [
    "# let's mess up the current errors a bit so that hesse has something to do\n",
    "m.errors[:] = (0.16, 0.2)\n",
    "m.params"
   ]
  },
  {
   "cell_type": "code",
   "execution_count": 35,
   "metadata": {},
   "outputs": [
    {
     "data": {
      "text/html": [
       "<table>\n",
       "<tr style=\"background-color:#F4F4F4;\"> <td/> <th title=\"Variable name\"> Name </th> <th title=\"Value of parameter\"> Value </th> <th title=\"Hesse error\"> Hesse Error </th> <th title=\"Minos lower error\"> Minos Error- </th> <th title=\"Minos upper error\"> Minos Error+ </th> <th title=\"Lower limit of the parameter\"> Limit- </th> <th title=\"Upper limit of the parameter\"> Limit+ </th> <th title=\"Is the parameter fixed in the fit\"> Fixed </th> </tr>\n",
       "<tr style=\"background-color:#FFFFFF;\"> <th> 0 </th> <td> a </td> <td> 1.01 </td> <td> 0.06 </td> <td>  </td> <td>  </td> <td>  </td> <td>  </td> <td>  </td> </tr>\n",
       "<tr style=\"background-color:#F4F4F4;\"> <th> 1 </th> <td> b </td> <td> 1.97 </td> <td> 0.10 </td> <td>  </td> <td>  </td> <td>  </td> <td>  </td> <td>  </td> </tr>\n",
       "</table>\n"
      ],
      "text/plain": [
       "------------------------------------------------------------------------------------------\n",
       "|   | Name |   Value   | Hesse Err | Minos Err- | Minos Err+ | Limit-  | Limit+  | Fixed |\n",
       "------------------------------------------------------------------------------------------\n",
       "| 0 | a    |   1.01    |   0.06    |            |            |         |         |       |\n",
       "| 1 | b    |   1.97    |   0.10    |            |            |         |         |       |\n",
       "------------------------------------------------------------------------------------------"
      ]
     },
     "execution_count": 35,
     "metadata": {},
     "output_type": "execute_result"
    }
   ],
   "source": [
    "m.hesse()"
   ]
  },
  {
   "cell_type": "markdown",
   "metadata": {},
   "source": [
    "The call returns the updated parameter list, which is again rendered as a table.\n",
    "\n",
    "#### Correlation and Covariance Matrix\n",
    "\n",
    "To see the correlation matrix of the parameters, you do:"
   ]
  },
  {
   "cell_type": "code",
   "execution_count": 36,
   "metadata": {
    "inputHidden": false,
    "outputHidden": false
   },
   "outputs": [
    {
     "data": {
      "text/html": [
       "<table>\n",
       "<tr> <td/> <th> a </th> <th> b </th> </tr>\n",
       "<tr> <th> a </th> <td> 1.00 </td> <td style=\"background-color:rgb(140,140,250)\"> -0.84 </td> </tr>\n",
       "<tr> <th> b </th> <td style=\"background-color:rgb(140,140,250)\"> -0.84 </td> <td> 1.00 </td> </tr>\n",
       "</table>\n"
      ],
      "text/plain": [
       "---------------------\n",
       "|   |      a      b |\n",
       "---------------------\n",
       "| a |  1.000 -0.843 |\n",
       "| b | -0.843  1.000 |\n",
       "---------------------"
      ]
     },
     "execution_count": 36,
     "metadata": {},
     "output_type": "execute_result"
    }
   ],
   "source": [
    "m.matrix(correlation=True)"
   ]
  },
  {
   "cell_type": "markdown",
   "metadata": {},
   "source": [
    "The paramaters $a$ and $b$ are stronly anti-correlated, which is highlighed by the blue color of the off-diagonal elements.\n",
    "\n",
    "Correlation is not necessarily a bad thing, but if you have freedom in redefining the parameters of the fit function, it is good to chose parameters which are not strongly correlated.\n",
    "\n",
    "Minuit cannot accurately minimise the function if two parameters are (almost) perfectly (anti-)correlated. It also means that one of two parameters is superfluous, it doesn't add new information. You should rethink the fit function in this case and try to remove one of the parameters from the fit.\n",
    "\n",
    "You can also look at the covariance matrix:"
   ]
  },
  {
   "cell_type": "code",
   "execution_count": 37,
   "metadata": {
    "inputHidden": false,
    "outputHidden": false
   },
   "outputs": [
    {
     "data": {
      "text/html": [
       "<table>\n",
       "<tr> <td/> <th> a </th> <th> b </th> </tr>\n",
       "<tr> <th> a </th> <td> 0.003 </td> <td style=\"background-color:rgb(140,140,250)\"> -0.005 </td> </tr>\n",
       "<tr> <th> b </th> <td style=\"background-color:rgb(140,140,250)\"> -0.005 </td> <td> 0.010 </td> </tr>\n",
       "</table>\n"
      ],
      "text/plain": [
       "---------------------\n",
       "|   |      a      b |\n",
       "---------------------\n",
       "| a |  0.003 -0.005 |\n",
       "| b | -0.005  0.010 |\n",
       "---------------------"
      ]
     },
     "execution_count": 37,
     "metadata": {},
     "output_type": "execute_result"
    }
   ],
   "source": [
    "m.matrix()"
   ]
  },
  {
   "cell_type": "markdown",
   "metadata": {
    "inputHidden": false,
    "outputHidden": false
   },
   "source": [
    "To see the matrices as Python objects, use `repr`:"
   ]
  },
  {
   "cell_type": "code",
   "execution_count": 38,
   "metadata": {},
   "outputs": [
    {
     "name": "stdout",
     "output_type": "stream",
     "text": [
      "((1.0, -0.8429272304210617), (-0.8429272304210617, 1.0))\n",
      "((0.003454545456314226, -0.004909090908578138), (-0.004909090908578138, 0.009818181811161075))\n"
     ]
    }
   ],
   "source": [
    "print(repr(m.matrix(correlation=True)))  # correlation matrix as before\n",
    "print(repr(m.matrix()))                  # covariance matrix"
   ]
  },
  {
   "cell_type": "markdown",
   "metadata": {},
   "source": [
    "If you want the matrix as a numpy array (useful for error propagation), use the `np_` methods:"
   ]
  },
  {
   "cell_type": "code",
   "execution_count": 39,
   "metadata": {},
   "outputs": [
    {
     "name": "stdout",
     "output_type": "stream",
     "text": [
      "[[ 0.00345455 -0.00490909]\n",
      " [-0.00490909  0.00981818]]\n"
     ]
    }
   ],
   "source": [
    "print(m.np_matrix())  # m.np_covariance() also works"
   ]
  },
  {
   "cell_type": "markdown",
   "metadata": {},
   "source": [
    "### Minos for non-parabolic minima\n",
    "\n",
    "Minuit has another algorithm to compute uncertainties: Minos. It implements the so-called profile likelihood method, where the neighborhood around the function minimum is scanned until the contour is found where the function increase by the value of `errordef`. The contour defines a confidence region that covers the true parameter point with a certain probability. The probability is exactly known in the limit of infinitely large data samples, but approximate for the finite case. Please consult a textbook about statistics about the mathematical details or look at the tutorial \"Error computation with HESSE and MINOS\".\n",
    "\n",
    "Pros:\n",
    "- Produces pretty confidence regions in 2D (or higher) for scientific plots\n",
    "\n",
    "Cons:\n",
    "- Computationally expensive\n",
    "- Asymmetric errors are difficult to error-propagate\n",
    "\n",
    "Minos is not automatically called during minimization, it needs to be called explicitly afterwards, like so:"
   ]
  },
  {
   "cell_type": "code",
   "execution_count": 40,
   "metadata": {},
   "outputs": [
    {
     "data": {
      "text/html": [
       "<table>\n",
       "<tr> <td/> <th colspan=\"2\" style=\"text-align:center\" title=\"Parameter name\"> a </th> <th colspan=\"2\" style=\"text-align:center\" title=\"Parameter name\"> b </th> </tr>\n",
       "<tr> <th title=\"Lower and upper minos error of the parameter\"> Error </th> <td> -0.06 </td> <td> 0.06 </td> <td> -0.1 </td> <td> 0.1 </td> </tr>\n",
       "<tr> <th title=\"Validity of lower/upper minos error\"> Valid </th> <td style=\"background-color:#92CCA6;\"> True </td> <td style=\"background-color:#92CCA6;\"> True </td> <td style=\"background-color:#92CCA6;\"> True </td> <td style=\"background-color:#92CCA6;\"> True </td> </tr>\n",
       "<tr> <th title=\"Did scan hit limit of any parameter?\"> At Limit </th> <td style=\"background-color:#92CCA6;\"> False </td> <td style=\"background-color:#92CCA6;\"> False </td> <td style=\"background-color:#92CCA6;\"> False </td> <td style=\"background-color:#92CCA6;\"> False </td> </tr>\n",
       "<tr> <th title=\"Did scan hit function call limit?\"> Max FCN </th> <td style=\"background-color:#92CCA6;\"> False </td> <td style=\"background-color:#92CCA6;\"> False </td> <td style=\"background-color:#92CCA6;\"> False </td> <td style=\"background-color:#92CCA6;\"> False </td> </tr>\n",
       "<tr> <th title=\"New minimum found when doing scan?\"> New Min </th> <td style=\"background-color:#92CCA6;\"> False </td> <td style=\"background-color:#92CCA6;\"> False </td> <td style=\"background-color:#92CCA6;\"> False </td> <td style=\"background-color:#92CCA6;\"> False </td> </tr>\n",
       "</table>\n"
      ],
      "text/plain": [
       "------------------------------------------------------------\n",
       "|          |           a           |           b           |\n",
       "------------------------------------------------------------\n",
       "|  Error   |   -0.06   |   0.06    |   -0.1    |    0.1    |\n",
       "|  Valid   |   True    |   True    |   True    |   True    |\n",
       "| At Limit |   False   |   False   |   False   |   False   |\n",
       "| Max FCN  |   False   |   False   |   False   |   False   |\n",
       "| New Min  |   False   |   False   |   False   |   False   |\n",
       "------------------------------------------------------------"
      ]
     },
     "execution_count": 40,
     "metadata": {},
     "output_type": "execute_result"
    }
   ],
   "source": [
    "m.minos()"
   ]
  },
  {
   "cell_type": "markdown",
   "metadata": {},
   "source": [
    "By now you are probably used to see green colors, which indicate that Minos ran successful. Be careful when these are red instead. The fields in the table mean the following:\n",
    "- Valid: Whether Minos considers the scan result valid.\n",
    "- At Limit: True if Minos hit a parameter limit before the finishing the contour, which would be bad.\n",
    "- Max FCN: True if Minos reached the maximum number of allowed calls before finishing the contour, also bad.\n",
    "- New Min: True if Minos discovered a deeper local minimum in the neighborhood of the current one. Not necessarily bad, but should not happen.\n",
    "\n",
    "The errors computed by Minos are now also shown in the parameter list:"
   ]
  },
  {
   "cell_type": "code",
   "execution_count": 41,
   "metadata": {},
   "outputs": [
    {
     "data": {
      "text/html": [
       "<table>\n",
       "<tr style=\"background-color:#F4F4F4;\"> <td/> <th title=\"Variable name\"> Name </th> <th title=\"Value of parameter\"> Value </th> <th title=\"Hesse error\"> Hesse Error </th> <th title=\"Minos lower error\"> Minos Error- </th> <th title=\"Minos upper error\"> Minos Error+ </th> <th title=\"Lower limit of the parameter\"> Limit- </th> <th title=\"Upper limit of the parameter\"> Limit+ </th> <th title=\"Is the parameter fixed in the fit\"> Fixed </th> </tr>\n",
       "<tr style=\"background-color:#FFFFFF;\"> <th> 0 </th> <td> a </td> <td> 1.01 </td> <td> 0.06 </td> <td> -0.06 </td> <td> 0.06 </td> <td>  </td> <td>  </td> <td>  </td> </tr>\n",
       "<tr style=\"background-color:#F4F4F4;\"> <th> 1 </th> <td> b </td> <td> 1.97 </td> <td> 0.10 </td> <td> -0.10 </td> <td> 0.10 </td> <td>  </td> <td>  </td> <td>  </td> </tr>\n",
       "</table>\n"
      ],
      "text/plain": [
       "------------------------------------------------------------------------------------------\n",
       "|   | Name |   Value   | Hesse Err | Minos Err- | Minos Err+ | Limit-  | Limit+  | Fixed |\n",
       "------------------------------------------------------------------------------------------\n",
       "| 0 | a    |   1.01    |   0.06    |   -0.06    |    0.06    |         |         |       |\n",
       "| 1 | b    |   1.97    |   0.10    |   -0.10    |    0.10    |         |         |       |\n",
       "------------------------------------------------------------------------------------------"
      ]
     },
     "execution_count": 41,
     "metadata": {},
     "output_type": "execute_result"
    }
   ],
   "source": [
    "m.params"
   ]
  },
  {
   "cell_type": "markdown",
   "metadata": {},
   "source": [
    "If the absolute values of the Minos errors are very close to the Hesse Error, the function is well approximated by a hyperparabola around the minimum. You can use this as a check instead of explicitly plotting the function around the minimum (for which we provide tools, see below).\n",
    "\n",
    "### Coverage probability of intervals constructed with Hesse and Minos algorithms\n",
    "\n",
    "In applications, it is important to construct confidence regions with a well-known coverage probability. As previously mentioned, the coverage probability of the intervals constructed from the uncertainties reported by Hesse and Minos are not necessarily the standard 68 %.\n",
    "\n",
    "Whether Hesse or Minos produce an interval with a coverage probability closer to the desired 68 % in finite samples depends on the case. There are theoretical results which suggest that Hesse should be better, but we also found special cases where Minos intervals performed better.\n",
    "\n",
    "Many sources claim that Minos works better when the cost function is not parabolic around the minimum; that is not true. We discovered in toy experiments and through literature research that it is not that simple. So as a rule-of-thumb, use Hesse as the default and try both algorithms if accurate coverage probability matters."
   ]
  },
  {
   "cell_type": "markdown",
   "metadata": {},
   "source": [
    "## Quick access to fit results\n",
    "\n",
    "If working with the dicts returned by `Minuit.migrad` and `Minuit.minos` is not your thing, you can also get the fit results with properties and methods. There are many, please check the reference of `Minuit`. Here are the most important ones:"
   ]
  },
  {
   "cell_type": "code",
   "execution_count": 42,
   "metadata": {},
   "outputs": [
    {
     "name": "stdout",
     "output_type": "stream",
     "text": [
      "<ValueView of Minuit at 7f9cea376cc0>\n",
      "  a: 1.0072676945409573\n",
      "  b: 1.9660364327570037\n",
      "by name 1.0072676945409573\n",
      "by index 1.0072676945409573\n",
      "('a', 1.0072676945409573)\n",
      "('b', 1.9660364327570037)\n",
      "[1.0072676945409573]\n",
      "Hesse errors\n",
      "<ErrorView of Minuit at 7f9cea376cc0>\n",
      "  a: 0.058775381379572736\n",
      "  b: 0.0990867388259452\n",
      "Minos errors\n",
      "MErrors([('a', MError(name='a', is_valid=True, lower=-0.058775381364563846, upper=0.05877538136448852, lower_valid=True, upper_valid=True, at_lower_limit=False, at_upper_limit=False, at_lower_max_fcn=False, at_upper_max_fcn=False, lower_new_min=False, upper_new_min=False, nfcn=12, min=1.0072676945409573)), ('b', MError(name='b', is_valid=True, lower=-0.09908673886143625, upper=0.09908673886130996, lower_valid=True, upper_valid=True, at_lower_limit=False, at_upper_limit=False, at_lower_max_fcn=False, at_upper_max_fcn=False, lower_new_min=False, upper_new_min=False, nfcn=12, min=1.9660364327570037))])\n",
      "Hesse covariance\n",
      "{('a', 'a'): 0.003454545456314226, ('a', 'b'): -0.004909090908578138, ('b', 'a'): -0.004909090908578138, ('b', 'b'): 0.009818181811161075}\n"
     ]
    }
   ],
   "source": [
    "print(m.values) # dict-like view of the parameter values\n",
    "# access values by name or index\n",
    "print(\"by name\", m.values[\"a\"])\n",
    "print(\"by index\", m.values[0])\n",
    "\n",
    "# you can iterate over the view like you would over a dict\n",
    "for key, value in m.values.items():\n",
    "    print((key, value))\n",
    "\n",
    "# slicing also works as if m.values was an array\n",
    "print(m.values[:1])\n",
    "    \n",
    "print(\"Hesse errors\")\n",
    "print(m.errors)  # dict-like view of symmetric uncertainties\n",
    "# m.errors supports the same access as m.values\n",
    "\n",
    "print(\"Minos errors\")\n",
    "print(repr(m.merrors))  # asymmetric uncertainties, we use repr() here to avoid the normal pretty print\n",
    "print(\"Hesse covariance\")\n",
    "print(m.covariance)  # the covariance matrix computed by Hesse"
   ]
  },
  {
   "cell_type": "markdown",
   "metadata": {},
   "source": [
    "Note that you can play around with iminuit by assigning new values to `m.values` and `m.errors`. The values will be used as a starting point when you call `m.migrad()` again.\n",
    "\n",
    "There are also corresponding methods that return numpy arrays, convenient if you use numpy functions. Note that these methods create copies. The numpy arrays are not views like the attributes. Changing the values of the numpy array does not change the state that `Minuit` sees."
   ]
  },
  {
   "cell_type": "code",
   "execution_count": 43,
   "metadata": {},
   "outputs": [
    {
     "name": "stdout",
     "output_type": "stream",
     "text": [
      "[1.00726769 1.96603643]\n",
      "[0.05877538 0.09908674]\n",
      "[[0.05877538 0.09908674]\n",
      " [0.05877538 0.09908674]]\n",
      "[[ 0.00345455 -0.00490909]\n",
      " [-0.00490909  0.00981818]]\n"
     ]
    }
   ],
   "source": [
    "# note these are methods and not a properties\n",
    "print(m.np_values())\n",
    "print(m.np_errors())\n",
    "print(m.np_merrors())\n",
    "print(m.np_covariance())"
   ]
  },
  {
   "cell_type": "markdown",
   "metadata": {},
   "source": [
    "The layout for most of these is straight-forward, but for `Minuit.np_merrors()` it is different. The layout returned by `Minuit.np_merrors()` follows the convention `[abs(delta_down), delta_up]` that is used by `matplotlib.pyplot.errorbar`. This makes passing Hesse and Minos errors to matplotlib straight-forward. You can see an example here:"
   ]
  },
  {
   "cell_type": "code",
   "execution_count": 44,
   "metadata": {},
   "outputs": [
    {
     "data": {
      "image/png": "[encoded data removed]",
      "text/plain": [
       "<Figure size 432x288 with 1 Axes>"
      ]
     },
     "metadata": {
      "needs_background": "light"
     },
     "output_type": "display_data"
    }
   ],
   "source": [
    "v = m.np_values()\n",
    "ve = m.np_errors()\n",
    "vm = m.np_merrors()\n",
    "# show hesse errors\n",
    "plt.errorbar((0, 1), v, ve, fmt=\"ob\");\n",
    "# show minos errors\n",
    "plt.errorbar((0.01, 1.01), v, vm, fmt=\"or\"); # add a little offset so that the error bars don't overlap\n",
    "plt.xlabel(\"parameter index\")\n",
    "plt.xticks((0, 1))\n",
    "plt.xlim(-0.1, 1.1);"
   ]
  },
  {
   "cell_type": "markdown",
   "metadata": {},
   "source": [
    "## Plotting\n",
    "\n",
    "iminuit comes with buildin methods to draw the confidence regions around the minimum, like so:"
   ]
  },
  {
   "cell_type": "code",
   "execution_count": 45,
   "metadata": {},
   "outputs": [
    {
     "data": {
      "image/png": "[encoded data removed]",
      "text/plain": [
       "<Figure size 432x288 with 1 Axes>"
      ]
     },
     "metadata": {
      "needs_background": "light"
     },
     "output_type": "display_data"
    }
   ],
   "source": [
    "m.draw_mncontour('a','b', nsigma=4);  # nsigma=4 says: draw four contours from sigma=1 to 4"
   ]
  },
  {
   "cell_type": "code",
   "execution_count": 46,
   "metadata": {},
   "outputs": [
    {
     "name": "stdout",
     "output_type": "stream",
     "text": [
      "[(0.8897169318118807, 2.133082253477052), (0.9163008437866607, 2.027773763850738), (0.9632011768650917, 1.9298097851626996), (1.022812689219366, 1.8382597795807067), (1.1063544334015256, 1.7678629550342166), (1.1248184572699838, 1.7989906115584866), (1.0982345453956277, 1.90429910140908), (1.0513342122557099, 2.002263080281524), (0.991722699782539, 2.093813086037092), (0.9081809552377944, 2.1642099104797063)]\n"
     ]
    }
   ],
   "source": [
    "# get individual minos contours for plotting them yourself\n",
    "param_a, param_b, ctr_xy = m.mncontour('a','b', sigma=2, numpoints=10)\n",
    "print(ctr_xy)"
   ]
  },
  {
   "cell_type": "markdown",
   "metadata": {},
   "source": [
    "If you need to inspect the cost function around the minimum because MINUIT warns you about some issues, you can quickly scan it with a call to `Minuit.draw_profile`."
   ]
  },
  {
   "cell_type": "code",
   "execution_count": 47,
   "metadata": {
    "scrolled": true
   },
   "outputs": [
    {
     "data": {
      "image/png": "[encoded data removed]",
      "text/plain": [
       "<Figure size 432x288 with 1 Axes>"
      ]
     },
     "metadata": {
      "needs_background": "light"
     },
     "output_type": "display_data"
    }
   ],
   "source": [
    "m.draw_profile('a');"
   ]
  },
  {
   "cell_type": "code",
   "execution_count": 48,
   "metadata": {},
   "outputs": [
    {
     "data": {
      "image/png": "[encoded data removed]",
      "text/plain": [
       "<Figure size 432x288 with 1 Axes>"
      ]
     },
     "metadata": {
      "needs_background": "light"
     },
     "output_type": "display_data"
    }
   ],
   "source": [
    "# or use this to plot the result of the scan yourself\n",
    "a, fa = m.profile('a')\n",
    "plt.plot(a, fa);"
   ]
  },
  {
   "cell_type": "markdown",
   "metadata": {},
   "source": [
    "Alternativel, you can use `mnprofile` to do a full profile likelihood scan. This mimics what MINOS does to compute confidence intervals. If you have trouble with MINOS, running this may help to inspect the issue.\n",
    "\n",
    "This is computationally expensive, since the scan runs MIGRAD for each point on the profile."
   ]
  },
  {
   "cell_type": "code",
   "execution_count": 49,
   "metadata": {},
   "outputs": [
    {
     "data": {
      "image/png": "[encoded data removed]",
      "text/plain": [
       "<Figure size 432x288 with 1 Axes>"
      ]
     },
     "metadata": {
      "needs_background": "light"
     },
     "output_type": "display_data"
    }
   ],
   "source": [
    "m.draw_mnprofile('a');"
   ]
  },
  {
   "cell_type": "markdown",
   "metadata": {},
   "source": [
    "Finally, you can also look at the 2D contours of the cost function around the minimum. Note that these are just contours of the fit function, not confidence regions. The latter you can only get from `mncontour`."
   ]
  },
  {
   "cell_type": "code",
   "execution_count": 50,
   "metadata": {},
   "outputs": [
    {
     "data": {
      "image/png": "[encoded data removed]",
      "text/plain": [
       "<Figure size 432x288 with 1 Axes>"
      ]
     },
     "metadata": {
      "needs_background": "light"
     },
     "output_type": "display_data"
    }
   ],
   "source": [
    "x,y,z = m.contour('a', 'b', subtract_min=True)\n",
    "cs = plt.contour(x,y,z, (1, 2, 3, 4)) # these are not sigmas, just the contour values\n",
    "plt.clabel(cs);"
   ]
  },
  {
   "cell_type": "code",
   "execution_count": 51,
   "metadata": {},
   "outputs": [
    {
     "data": {
      "image/png": "[encoded data removed]",
      "text/plain": [
       "<Figure size 432x288 with 1 Axes>"
      ]
     },
     "metadata": {
      "needs_background": "light"
     },
     "output_type": "display_data"
    }
   ],
   "source": [
    "# or use this function for a quick look\n",
    "m.draw_contour('a', 'b');"
   ]
  }
 ],
 "metadata": {
  "kernel_info": {
   "name": "python3"
  },
  "kernelspec": {
   "display_name": "Python 3",
   "language": "python",
   "name": "python3"
  },
  "language_info": {
   "codemirror_mode": {
    "name": "ipython",
    "version": 3
   },
   "file_extension": ".py",
   "mimetype": "text/x-python",
   "name": "python",
   "nbconvert_exporter": "python",
   "pygments_lexer": "ipython3",
   "version": "3.7.7"
  },
  "nteract": {
   "version": "0.12.3"
  }
 },
 "nbformat": 4,
 "nbformat_minor": 4
}
