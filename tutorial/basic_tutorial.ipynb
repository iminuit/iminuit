{
 "cells": [
  {
   "cell_type": "markdown",
   "metadata": {},
   "source": [
    "# Tutorial\n",
    "\n",
    "Welcome to the **iminuit tutorial**. You will learn basic usage of iminuit and how to approach standard fitting problems with iminuit. iminuit is a numerical minimizer and error calculator. You provide it an analytical function, which accepts one or several parameters, and an initial guess of the parameter values. It will then find a local minimum of this function starting from the initial guess. In that regard, iminuit is similar to other minimizers, like those in scipy.optimize.\n",
    "\n",
    "In addition, iminuit has the ability to compute **uncertainty estimates** for model parameters. iminuit was designed to solve statistics problems, where uncertainty estimates are an essential part of the result. Two ways of computing uncertainty estimates are provided with different strengths, the *Hesse* and the *Minos* algorithm.\n",
    "\n",
    "iminuit is the successor of pyminuit. If you used pyminuit before, you will find iminuit very familiar. An important feature of iminuit (and pyminuit) is that it uses introspection to detect the parameter names of your function. This is very convenient, especially when you work interactively in a Jupyter notebook. It also provides special output routines for Jupyter notebooks to pretty print the fit results, as you will see below."
   ]
  },
  {
   "cell_type": "code",
   "execution_count": 1,
   "metadata": {},
   "outputs": [
    {
     "name": "stdout",
     "output_type": "stream",
     "text": [
      "iminuit version 1.3.7\n"
     ]
    }
   ],
   "source": [
    "# basic setup of the notebook\n",
    "from matplotlib import pyplot as plt\n",
    "import numpy as np\n",
    "from pprint import pprint # we use this to pretty print some stuff later\n",
    "\n",
    "# everything in iminuit is done through the Minuit object, so we import it\n",
    "from iminuit import Minuit, __version__\n",
    "print(\"iminuit version\", __version__)"
   ]
  },
  {
   "cell_type": "markdown",
   "metadata": {},
   "source": [
    "## Fit example\n",
    "\n",
    "For this tutorial, we look at a simple case where line should be fitted to scattered $(x, y)$ data. A line has two parameters $(a, b)$."
   ]
  },
  {
   "cell_type": "code",
   "execution_count": 2,
   "metadata": {},
   "outputs": [
    {
     "data": {
      "image/png": "[encoded data removed]",
      "text/plain": [
       "<Figure size 432x288 with 1 Axes>"
      ]
     },
     "metadata": {
      "needs_background": "light"
     },
     "output_type": "display_data"
    }
   ],
   "source": [
    "def line(x, a, b):\n",
    "    return a + x * b\n",
    "\n",
    "data_x = np.linspace(0, 1, 10)\n",
    "# precomputed random numbers from a normal distribution\n",
    "offsets = np.array([-0.49783783, -0.33041722, -1.71800806,  1.60229399,  1.36682387,\n",
    "                    -1.15424221, -0.91425267, -0.03395604, -1.27611719, -0.7004073 ])\n",
    "data_y = line(data_x, 1, 2) + 0.1 * offsets # generate some data points with random offsets\n",
    "plt.plot(data_x, data_y, \"o\")\n",
    "plt.xlim(-0.1, 1.1);"
   ]
  },
  {
   "cell_type": "markdown",
   "metadata": {},
   "source": [
    "To recovert the parameters of the line, we fit the line to the scattered data using the method of least-squares. We compute the sum of squared residuals of the $y$ values around the line for a given pair of line parameters $(a, b)$."
   ]
  },
  {
   "cell_type": "code",
   "execution_count": 3,
   "metadata": {},
   "outputs": [],
   "source": [
    "def least_squares(a, b):\n",
    "    yvar = 0.01\n",
    "    return sum((data_y - line(data_x, a, b)) ** 2 / yvar)"
   ]
  },
  {
   "cell_type": "markdown",
   "metadata": {},
   "source": [
    "With iminuit we can find the values of $a$ and $b$ which minimize this sum. Let's do it:"
   ]
  },
  {
   "cell_type": "code",
   "execution_count": 4,
   "metadata": {},
   "outputs": [
    {
     "name": "stdout",
     "output_type": "stream",
     "text": [
      "a = 0.9909664415272811 +/- 0.05877538146463435\n",
      "b = 1.9449447037454664 +/- 0.09908673900884825\n"
     ]
    },
    {
     "data": {
      "image/png": "[encoded data removed]",
      "text/plain": [
       "<Figure size 432x288 with 1 Axes>"
      ]
     },
     "metadata": {
      "needs_background": "light"
     },
     "output_type": "display_data"
    }
   ],
   "source": [
    "m = Minuit(least_squares, pedantic=False)\n",
    "m.migrad() # finds minimum of least_squares function\n",
    "m.hesse()  # computes errors \n",
    "\n",
    "# draw data and fitted line\n",
    "plt.plot(data_x, data_y, \"o\")\n",
    "plt.plot(data_x, line(data_x, *m.values.values()))\n",
    "\n",
    "# print parameter values and uncertainty estimates\n",
    "for p in m.parameters:\n",
    "    print(\"{} = {} +/- {}\".format(p, m.values[p], m.errors[p]))"
   ]
  },
  {
   "cell_type": "markdown",
   "metadata": {},
   "source": [
    "In the following, we dive into the details step by step; how the Minuit object is initialized, how to run the algorithms, and how to get the results.\n",
    "\n",
    "iminuit was designed to make it easy to fit functions like `least_squares(a, b)`, where the parameters are individual arguments of the function. There is an alternative function signature that Minuit supports, which is more convenient when you work a lot with numpy. Here, the parameters are passed as a numpy array. The two kinds of function definitions have each pros and cons. We will first dive how to work with functions of the first kind and come back to the second kind later. If you are interested only in the second kind, skip to the section **Alternative: Numpy functions**"
   ]
  },
  {
   "cell_type": "markdown",
   "metadata": {},
   "source": [
    "## Initialize Minuit\n",
    "\n",
    "To minimize a function, you create an instance of the Minuit class and pass the function to it. This does not start the minimization yet, this will come later. iminuit uses introspection to get the number and names of the function parameters automatically."
   ]
  },
  {
   "cell_type": "code",
   "execution_count": 5,
   "metadata": {},
   "outputs": [
    {
     "name": "stderr",
     "output_type": "stream",
     "text": [
      "/Users/hdembinski/Extern/iminuit/py37/lib/python3.7/site-packages/ipykernel_launcher.py:1: InitialParamWarning: Parameter a does not have initial value. Assume 0.\n",
      "  \"\"\"Entry point for launching an IPython kernel.\n",
      "/Users/hdembinski/Extern/iminuit/py37/lib/python3.7/site-packages/ipykernel_launcher.py:1: InitialParamWarning: Parameter a is floating but does not have initial step size. Assume 1.\n",
      "  \"\"\"Entry point for launching an IPython kernel.\n",
      "/Users/hdembinski/Extern/iminuit/py37/lib/python3.7/site-packages/ipykernel_launcher.py:1: InitialParamWarning: Parameter b does not have initial value. Assume 0.\n",
      "  \"\"\"Entry point for launching an IPython kernel.\n",
      "/Users/hdembinski/Extern/iminuit/py37/lib/python3.7/site-packages/ipykernel_launcher.py:1: InitialParamWarning: Parameter b is floating but does not have initial step size. Assume 1.\n",
      "  \"\"\"Entry point for launching an IPython kernel.\n",
      "/Users/hdembinski/Extern/iminuit/py37/lib/python3.7/site-packages/ipykernel_launcher.py:1: InitialParamWarning: errordef is not given. Default to 1.\n",
      "  \"\"\"Entry point for launching an IPython kernel.\n"
     ]
    }
   ],
   "source": [
    "m = Minuit(least_squares) # we create an instance of Minuit and pass the function to minimize"
   ]
  },
  {
   "cell_type": "markdown",
   "metadata": {},
   "source": [
    "Woah, lots of warnings, we will go through them step-by-step. Note how iminuit refers to your parameters by correct names in the warnings. The filename and line numbers shown in the warnings are bogus in Jupyter notebooks, but refer to the correct file and line when you use iminuit in a script or in the terminal shell.\n",
    "\n",
    "### Initial parameter values\n",
    "\n",
    "iminuit is a local minimizer. It searches for a local minimum by gradient-descent method from a starting point. If your function has several minima, the minimum found will depend on the starting point. Even if it has only one minimum, iminuit will converge to it faster if you start in the proximity of the minimum. If you don't provide a starting value for a parameter, it uses 0. You almost always want to specify a starting point.\n",
    "\n",
    "You can set the starting point using the parameter names as keywords, `<name> = <value>`."
   ]
  },
  {
   "cell_type": "code",
   "execution_count": 6,
   "metadata": {},
   "outputs": [
    {
     "name": "stderr",
     "output_type": "stream",
     "text": [
      "/Users/hdembinski/Extern/iminuit/py37/lib/python3.7/site-packages/ipykernel_launcher.py:1: InitialParamWarning: Parameter a is floating but does not have initial step size. Assume 1.\n",
      "  \"\"\"Entry point for launching an IPython kernel.\n",
      "/Users/hdembinski/Extern/iminuit/py37/lib/python3.7/site-packages/ipykernel_launcher.py:1: InitialParamWarning: Parameter b is floating but does not have initial step size. Assume 1.\n",
      "  \"\"\"Entry point for launching an IPython kernel.\n",
      "/Users/hdembinski/Extern/iminuit/py37/lib/python3.7/site-packages/ipykernel_launcher.py:1: InitialParamWarning: errordef is not given. Default to 1.\n",
      "  \"\"\"Entry point for launching an IPython kernel.\n"
     ]
    }
   ],
   "source": [
    "m = Minuit(least_squares, a=5, b=5) # pass starting values for a and b"
   ]
  },
  {
   "cell_type": "markdown",
   "metadata": {},
   "source": [
    "### Initial step sizes\n",
    "\n",
    "iminuit further wants initial step sizes. iminuit uses a gradient-descent method to find the minimum and the gradient is computed numerically using finite differences. The initial step size is used to compute the first gradient. If you don't provide a value, it uses 1. A good step size is small compared to the curvature of the function, but large compared to numerical resolution.\n",
    "\n",
    "You can set initital step sizes with keywords, `error_<name> = <step size>`. If you don't know what to pick, don't worry too much. Usually, the choice is not important. In the worst case, iminuit will use a few more function evaluations to find the minimum. A good guess is a fraction of the initial fit parameter value, e.g. 10 % (be careful when applying this rule-of-thumb when your the initial parameter value is zero).\n",
    "\n",
    "Using an appropriate step size is important when you have you a parameter which has physical bounds. Varying the initial parameter value by the step size may not create a situation where the parameter goes outside of its bounds. For example, a parameter $x$ with $x > 0$ and initital value $0.1$ may not have a step size of $0.2$. If you follow the recommendation of using 10 % of the initial value, you never run into this problem.\n",
    "\n",
    "In our example, we use an initital step size of $\\Delta a = \\Delta b = 0.1$."
   ]
  },
  {
   "cell_type": "code",
   "execution_count": 7,
   "metadata": {},
   "outputs": [
    {
     "name": "stderr",
     "output_type": "stream",
     "text": [
      "/Users/hdembinski/Extern/iminuit/py37/lib/python3.7/site-packages/ipykernel_launcher.py:1: InitialParamWarning: errordef is not given. Default to 1.\n",
      "  \"\"\"Entry point for launching an IPython kernel.\n"
     ]
    }
   ],
   "source": [
    "m = Minuit(least_squares, a=5, b=5, error_a=0.1, error_b=0.1)"
   ]
  },
  {
   "cell_type": "markdown",
   "metadata": {},
   "source": [
    "### Error definition\n",
    "\n",
    "Only one warning left. Minuit asks you to explicitly provide a value for the error definition with the `errordef` keyword. This is needed to get correct uncertainty estimates for your parameters. In statistical problems, there are two kinds of functions to minimize, the *negative log-likelihood* and the *least-squares* function. Each has a corresponding value for `errordef`:\n",
    " - `0.5` or the constant `Minuit.LIKELIHOOD` for negative log-likelihood functions \n",
    " - `1` or the constant `Minuit.LEAST_SQUARES` for least-squares functions \n",
    "\n",
    "The origin of these numbers is not complicated, but cannot be explained briefly, so if you are curious, we suggest a statistics book for physicists, e.g. G. Cowan, \"Statistical Data Analysis\", Oxford Science Publications.\n",
    "\n",
    "If you don't care about uncertainty estimates, just use the  `errordef` default and pass `pedantic=False` to turn off all warnings.\n",
    "\n",
    "For our example, we need to pass `errordef=1` or `errordef=Minuit.LEAST_SQUARES`, because we are minimizing a least-squares function."
   ]
  },
  {
   "cell_type": "code",
   "execution_count": 8,
   "metadata": {},
   "outputs": [
    {
     "ename": "AttributeError",
     "evalue": "type object 'iminuit._libiminuit.Minuit' has no attribute 'LEAST_SQUARES'",
     "output_type": "error",
     "traceback": [
      "\u001b[0;31m---------------------------------------------------------------------------\u001b[0m",
      "\u001b[0;31mAttributeError\u001b[0m                            Traceback (most recent call last)",
      "\u001b[0;32m<ipython-input-8-d8fd8598eb1d>\u001b[0m in \u001b[0;36m<module>\u001b[0;34m\u001b[0m\n\u001b[0;32m----> 1\u001b[0;31m \u001b[0mm\u001b[0m \u001b[0;34m=\u001b[0m \u001b[0mMinuit\u001b[0m\u001b[0;34m(\u001b[0m\u001b[0mleast_squares\u001b[0m\u001b[0;34m,\u001b[0m \u001b[0ma\u001b[0m\u001b[0;34m=\u001b[0m\u001b[0;36m5\u001b[0m\u001b[0;34m,\u001b[0m \u001b[0mb\u001b[0m\u001b[0;34m=\u001b[0m\u001b[0;36m5\u001b[0m\u001b[0;34m,\u001b[0m \u001b[0merror_a\u001b[0m\u001b[0;34m=\u001b[0m\u001b[0;36m0.1\u001b[0m\u001b[0;34m,\u001b[0m \u001b[0merror_b\u001b[0m\u001b[0;34m=\u001b[0m\u001b[0;36m0.1\u001b[0m\u001b[0;34m,\u001b[0m \u001b[0merrordef\u001b[0m\u001b[0;34m=\u001b[0m\u001b[0mMinuit\u001b[0m\u001b[0;34m.\u001b[0m\u001b[0mLEAST_SQUARES\u001b[0m\u001b[0;34m)\u001b[0m\u001b[0;34m\u001b[0m\u001b[0;34m\u001b[0m\u001b[0m\n\u001b[0m",
      "\u001b[0;31mAttributeError\u001b[0m: type object 'iminuit._libiminuit.Minuit' has no attribute 'LEAST_SQUARES'"
     ]
    }
   ],
   "source": [
    "m = Minuit(least_squares, a=5, b=5, error_a=0.1, error_b=0.1, errordef=Minuit.LEAST_SQUARES)"
   ]
  },
  {
   "cell_type": "markdown",
   "metadata": {},
   "source": [
    "Now iminuit is happy, all optional information is provided.\n",
    "\n",
    "If you want to quickly minimize a function and you know that the defaults are ok, you can also explicitly silence all warnings, like so:"
   ]
  },
  {
   "cell_type": "code",
   "execution_count": null,
   "metadata": {},
   "outputs": [],
   "source": [
    "m = Minuit(least_squares, pedantic=False)  # silence warnings, use default values"
   ]
  },
  {
   "cell_type": "markdown",
   "metadata": {},
   "source": [
    "You can always check the current parameter settings with the method `Minuit.get_param_states()`."
   ]
  },
  {
   "cell_type": "code",
   "execution_count": null,
   "metadata": {},
   "outputs": [],
   "source": [
    "m.params"
   ]
  },
  {
   "cell_type": "markdown",
   "metadata": {},
   "source": [
    "As you can see, this produces a nice table. The table will be updated once you run the actual minimization. To look at the initital conditions later, use `Minuit.get_initial_param_states()`. We will come back to the meaning of *Hesse Error* and *Minos Error*, when we discuss the actual minimization.\n",
    "\n",
    "Before we do that, let's see what else we can specify in the initialization.\n",
    "\n",
    "### Parameters with limits\n",
    "\n",
    "iminuit allows you to set parameter limits. Often a parameter is limited mathematically or physically to a certain range. For example, if your function contains `sqrt(x)`, then $x$ must be non-negative, $x \\ge 0$. You can set upper-, lower-, or two-sided limits for each parameter individually with keywords `limit_<name>`:\n",
    "\n",
    "- lower limit: use `limit_<name> = (<value>, None)` or `(<value>, float(\"infinity\"))`\n",
    "- upper limit: use `limit_<name> = (None, <value>)` or `(-float(\"infinity\"), <value>)`\n",
    "- two-sided limit: use `limit_<name> = (<min_value>, <max_value>)`\n",
    "\n",
    "To impose the limits $a \\ge 0$ and $0 \\le b \\le 10$ in our example, you do:"
   ]
  },
  {
   "cell_type": "code",
   "execution_count": null,
   "metadata": {},
   "outputs": [],
   "source": [
    "m = Minuit(least_squares, a=5, b=5,\n",
    "           error_a=0.1, error_b=0.1,\n",
    "           limit_a=(0, None), limit_b=(0, 10),\n",
    "           errordef=1)\n",
    "m.params"
   ]
  },
  {
   "cell_type": "markdown",
   "metadata": {},
   "source": [
    "### (Initially) Fixed parameters\n",
    "\n",
    "Sometimes you have a parameter which you want to set to a fixed value temporarily. Perhaps you have a guess for its value, and you want to see how the other parameters adapt when this parameter is fixed to that value.\n",
    "\n",
    "Or you have a complex function with many parameters that do not all affect the function at the same scale. Then you can manually help the minimizer to find the minimum faster by first fixing the less important parameters to initial guesses and fit only the important parameters. Once the minimum is found under these conditions, you can release the fixed parameters and optimize all parameters together. Minuit remembers the last state of the minimization and starts from there. The minimization time roughly scales with the square of the number of parameters. Iterated minimization over subspaces of the parameters can reduce that time.\n",
    "\n",
    "To fix an individual parameter, you use the keyword `fix_<name> = True`. In our example, we fix $x$, like so:"
   ]
  },
  {
   "cell_type": "code",
   "execution_count": null,
   "metadata": {},
   "outputs": [],
   "source": [
    "m = Minuit(least_squares, a=5, b=5, fix_a=True,\n",
    "           error_a=0.1, error_b=0.1,\n",
    "           errordef=1)\n",
    "m.params"
   ]
  },
  {
   "cell_type": "code",
   "execution_count": null,
   "metadata": {
    "scrolled": false
   },
   "outputs": [],
   "source": [
    "# migrad will not vary a, only b\n",
    "m.migrad()"
   ]
  },
  {
   "cell_type": "code",
   "execution_count": null,
   "metadata": {},
   "outputs": [],
   "source": [
    "# now we release a and fix b and minimize again\n",
    "m.fixed[\"a\"] = False\n",
    "m.fixed[\"b\"] = True\n",
    "m.migrad()"
   ]
  },
  {
   "cell_type": "code",
   "execution_count": null,
   "metadata": {},
   "outputs": [],
   "source": [
    "# convergence is slow in this case, let's release both parameters and minimize again\n",
    "for key in m.fixed:\n",
    "    m.fixed[key] = False\n",
    "m.migrad()"
   ]
  },
  {
   "cell_type": "markdown",
   "metadata": {},
   "source": [
    "It is also possible and sometimes useful to change the values of some fixed parameters by hand and fit the others, or to restart the fit from another starting point. This can also be done."
   ]
  },
  {
   "cell_type": "code",
   "execution_count": null,
   "metadata": {},
   "outputs": [],
   "source": [
    "m.fixed[\"a\"] = True\n",
    "m.values[\"a\"] = 0.5\n",
    "m.migrad()"
   ]
  },
  {
   "cell_type": "code",
   "execution_count": null,
   "metadata": {},
   "outputs": [],
   "source": [
    "m.values[\"a\"] = 1\n",
    "m.migrad()"
   ]
  },
  {
   "cell_type": "code",
   "execution_count": null,
   "metadata": {},
   "outputs": [],
   "source": [
    "m.values[\"a\"] = 1.5\n",
    "m.migrad()"
   ]
  },
  {
   "cell_type": "markdown",
   "metadata": {},
   "source": [
    "### Override paramater name detection\n",
    "\n",
    "iminuit tries hard to find out the parameter names and is pretty good at it. For example, if you pass a functor instead of a function, it will use the arguments of the `__call__` method, automatically skipping `self`.\n",
    "\n",
    "To see which parameter names iminuit finds for your function, use the `describe` function, like so:"
   ]
  },
  {
   "cell_type": "code",
   "execution_count": null,
   "metadata": {},
   "outputs": [],
   "source": [
    "from iminuit import describe\n",
    "\n",
    "def foo(x, y, z): pass\n",
    "assert describe(foo) == ['x', 'y', 'z']\n",
    "\n",
    "class Foo:\n",
    "    def __call__(self, a, b):\n",
    "        pass\n",
    "\n",
    "assert describe(Foo()) == ['a', 'b']"
   ]
  },
  {
   "cell_type": "markdown",
   "metadata": {},
   "source": [
    "This works very well, but for some functions, the parameter names cannot be determined. An obvious case are functions which accept a variable number of arguments."
   ]
  },
  {
   "cell_type": "code",
   "execution_count": null,
   "metadata": {},
   "outputs": [],
   "source": [
    "def bar(*args):  # function with variable number of arguments\n",
    "    return np.sum((np.array(args) - 1) ** 2)\n",
    "\n",
    "try:\n",
    "    describe(bar)  # this will raise a TypeError\n",
    "except TypeError as e:\n",
    "    pprint(e)"
   ]
  },
  {
   "cell_type": "markdown",
   "metadata": {},
   "source": [
    "A `TypeError` is raised, because `describe` cannot detect the number and names of the parameters in this case. If you work with functions that accept a variable number of arguments a lot, we recommend to use vectorized functions, as explained in the next section.\n",
    "\n",
    "When iminuit cannot detect the arguments, but you know how many arguments there are, or if you simply want to override the names found by iminuit, you can do that with the keyword `forced_parameters`, like so:"
   ]
  },
  {
   "cell_type": "code",
   "execution_count": null,
   "metadata": {},
   "outputs": [],
   "source": [
    "m = Minuit(bar, forced_parameters=('a', 'b'), a=1, b=2, pedantic=False)\n",
    "m.migrad()"
   ]
  },
  {
   "cell_type": "markdown",
   "metadata": {},
   "source": [
    "### Alternative: Vectorized functions\n",
    "\n",
    "You can also use iminuit with functions that accept numpy arrays. This has pros and cons.\n",
    "\n",
    "**Pros**\n",
    "- Easy to change number of fitted parameters\n",
    "- Sometimes simpler function body that's easier to read\n",
    "- Technically more efficient, although this is probably not noticable unless you have >100 parameters\n",
    "\n",
    "**Cons**\n",
    "- iminuit cannot figure out names for each parameter\n",
    "\n",
    "Let's take the original `least_squares` function and write a vectorized version:"
   ]
  },
  {
   "cell_type": "code",
   "execution_count": null,
   "metadata": {},
   "outputs": [],
   "source": [
    "import numpy as np\n",
    "\n",
    "def least_squares_np(par):  # par is a numpy array here \n",
    "    mu = np.polyval(par, data_x)  # for par = (a, b) this is a line\n",
    "    yvar = 0.01\n",
    "    return np.sum((data_y - mu) ** 2 / yvar)"
   ]
  },
  {
   "cell_type": "markdown",
   "metadata": {},
   "source": [
    "`least_square(a, b)` and `least_squares_np(par)` are alternative implementations of the same mathematical function, if the latter is called with two arguments. In contrast to `least_squares`, `least_squares_np` can also be called with fewer or more arguments, using a polynomial of the corresponding order predict the behavior of the data. This will come in handy. \n",
    "\n",
    "To pass a numpy function, create a Minuit object with the method `Minuit.from_array_func`. Using the function `least_squares_np(par)` described above as an example, the call looks like this:"
   ]
  },
  {
   "cell_type": "code",
   "execution_count": null,
   "metadata": {},
   "outputs": [],
   "source": [
    "m = Minuit.from_array_func(least_squares_np, (5, 5), error=(0.1, 0.1), errordef=1)\n",
    "m.params"
   ]
  },
  {
   "cell_type": "markdown",
   "metadata": {},
   "source": [
    "The first argument after the function is the starting point, which you provide as a sequence here. iminuit uses the length of this sequence to detect how many parameters your function has. As before you can use the keywords `error`, `limit`, and `fix`, to set initial step sizes, parameter limits, and fix parameters. These must be sequences with the same length as the starting point. For `error` and `limit`, it is also allowed to give a single step size or a single limit, which is then used for all parameters.\n",
    "\n",
    "By default, the parameters are named automatically `x0` to `xN`. You can override this with the keyword `name`, passing a sequence of parameter names, like so: "
   ]
  },
  {
   "cell_type": "code",
   "execution_count": null,
   "metadata": {},
   "outputs": [],
   "source": [
    "m = Minuit.from_array_func(least_squares_np, (5, 5), error=(0.1, 0.1), fix=(True, False),\n",
    "                           limit=((0, None), (0, 10)),\n",
    "                           name = (\"a\", \"b\"), errordef=1)\n",
    "m.params"
   ]
  },
  {
   "cell_type": "markdown",
   "metadata": {},
   "source": [
    "Since `least_squares_np(par)` works for numpy arrays of any length, you can easily change the number of fitted parameters by changing the length of the starting array, like so:"
   ]
  },
  {
   "cell_type": "code",
   "execution_count": null,
   "metadata": {},
   "outputs": [],
   "source": [
    "m = Minuit.from_array_func(least_squares_np, (5, 5, 5, 5), error=0.1, errordef=1)\n",
    "m.params"
   ]
  },
  {
   "cell_type": "markdown",
   "metadata": {},
   "source": [
    "This is useful when you fit a polynomial to parametrize some data and you want to try different orders of the polynomial. If the order is too small, the polynomial will not follow the data. If it is too large, you will overfit the data and polynomial will pick up random fluctuations and not the underlying trend. You can figure out the right order by experimenting or using an algorithm like cross-validation.\n",
    "\n",
    "If you are very familiar with numpy and scipy, you may find the `minimize` function useful. It exactly mimics the function interface of `scipy.optimize.minimize`, but uses `Minuit` for the actual minimization. You need to have `scipy` installed to use it."
   ]
  },
  {
   "cell_type": "code",
   "execution_count": null,
   "metadata": {},
   "outputs": [],
   "source": [
    "from iminuit import minimize  # has same interface as scipy.optimize.minimize\n",
    "minimize(least_squares_np, (5, 5))"
   ]
  },
  {
   "cell_type": "markdown",
   "metadata": {},
   "source": [
    "## Minimize the function\n",
    "\n",
    "To run the actual minimization, you call the `Minuit.migrad()` method. Migrad performs Variable-Metric Minimization. It combines a steepest-descends algorithm along with line search strategy. Migrad is very popular in high energy physics field because of its robustness."
   ]
  },
  {
   "cell_type": "code",
   "execution_count": null,
   "metadata": {
    "scrolled": true
   },
   "outputs": [],
   "source": [
    "m = Minuit(least_squares, a=5, b=5, error_a=0.1, error_b=0.1, errordef=1)\n",
    "m.migrad()"
   ]
  },
  {
   "cell_type": "markdown",
   "metadata": {},
   "source": [
    "The method returns two dict-like objects, which contain information about the function minimum and the parameter state. In a notebook, these objects are nicely rendered as tables. This is good for a quick check:\n",
    "\n",
    "- All blocks should be green.\n",
    "- Red means something bad. \n",
    "- Yellow is a caution (fit is good but you ran over call limit)\n",
    "\n",
    "Let's look at the actual object. The first is the function minimum `fmin`:"
   ]
  },
  {
   "cell_type": "code",
   "execution_count": null,
   "metadata": {},
   "outputs": [],
   "source": [
    "pprint(m.fmin)"
   ]
  },
  {
   "cell_type": "markdown",
   "metadata": {},
   "source": [
    "The most important one here is `is_valid`. If this is false, the fit did not converge and the result is useless. If that happens, there can be many reasons.\n",
    "\n",
    "- The fit function is not analytical everywhere in the parameter space or does not have a local minimum (the minimum may be at infinity, the extremum may be a saddle point or maximum). Indicators for this are `is_above_max_edm=True`, `hesse_failed=True`, `has_posdef_covar=False`, or `has_made_posdef_covar=True`.\n",
    "- Migrad reached the call limit before the convergence so that `has_reached_call_limit=True`. The used number of function calls is `nfcn`, and the call limit can be changed with the keyword argument `ncall` in the method  `Minuit.migrad`. Note that `nfcn` can be slightly larger than `ncall`, because Migrad internally only checks this condition after a full iteration step, in which several function calls can happen.\n",
    "\n",
    "Migrad detects converge by a small `edm` value, the *estimated distance to minimum*. This is the difference between the current minimum value of the minimized function and the next prediction based on a local quadratic approximation of the function (something that Migrad computes as part of its algorithm). If the fit did not converge, `is_above_max_edm` is true.\n",
    "\n",
    "If you are interested in parameter uncertainties, you should make sure that:\n",
    "\n",
    "- `has_covariance`, `has_accurate_covar`, and `has_posdef_covar` are true.\n",
    "- `has_made_posdef_covar` and `hesse_failed` are false.\n",
    "\n",
    "**Beware**: Migrad sometimes reports `is_valid=True` even when the result is wrong. There are some known and perhaps some hidden bugs in the Migrad code which cause this. When you find such a case, please report it, so that we can forward it to the maintainers of C++ Minuit. We advice to carefully check the fit result in any case for consistency, for example, by plotting the fitted function on top of the data to see that they match.\n",
    "\n",
    "The second object of interest after the fit is the parameter list:"
   ]
  },
  {
   "cell_type": "code",
   "execution_count": null,
   "metadata": {
    "scrolled": true
   },
   "outputs": [],
   "source": [
    "pprint(m.params)"
   ]
  },
  {
   "cell_type": "markdown",
   "metadata": {},
   "source": [
    "This is a list of dict-like objects which contain information about the fitted parameters. Important fields are:\n",
    "- `index`: parameter index.\n",
    "- `name`: parameter name.\n",
    "- `value`: value of the parameter at the minimum.\n",
    "- `error`: uncertainty estimate for the parameter value.\n",
    "\n",
    "Whether the uncertainty estimate is accurate depends on the correct mathematical modeling of your fitting problem and using the right `errordef` value for Minuit (which one to use was already explained earlier).\n",
    "\n",
    "What do we mean by correct mathematical modelling? If you look into the function `least_squares(a, b)`, you see that each squared residuals is divided by the expected stochastic variance of the residual. This is necessary to get accurate uncertainty estimates for the parameters.\n",
    "\n",
    "Often the expected variance of the residual is not exactly known, but it usually can be approximated. If the function to minimize is a least-squares function, there is a simple test to check whether the residual variances are accurate. You look at the function value at the minimum, here given by `fmin.fval`, and divide it by the difference of the number of residuals and the number of fitted parameters. This is so-called reduced chi2."
   ]
  },
  {
   "cell_type": "code",
   "execution_count": null,
   "metadata": {},
   "outputs": [],
   "source": [
    "m.fval / (len(data_y) - 2)  # reduced chi2"
   ]
  },
  {
   "cell_type": "markdown",
   "metadata": {},
   "source": [
    "This value should be around 1. The more residuals you have, the closer. If the value is much larger than 1, then you either underestimate the variance of the residuals or your model does not describe the data. If the value is much smaller than 1, then you overestimate the variance of the residuals.\n",
    "\n",
    "##  Parameter uncertainties, covariances, and confidence intervals\n",
    "\n",
    "You saw how to get the uncertainty of each individual parameter, but parameters are usually correlated. This is essential additional information if you want to work with parameter uncertainties seriously. We will discuss next how you access that.\n",
    "\n",
    "Minuit offers two ways to compute the parameter uncertainties, Hesse and Minos. Both have pros and cons."
   ]
  },
  {
   "cell_type": "markdown",
   "metadata": {},
   "source": [
    "### Hesse for covariance and correlation matrices\n",
    "\n",
    "The Hesse algorithm numerically computes the matrix of second derivatives at the function minimum (called the Hesse matrix) and inverts it. The Hesse matrix is symmetric by construction. In the limit of infinite data samples to fit, the result of this computation converges to the true covariance matrix of the parameters. It often is already a good approximation even for finite statistic. These errors obtained from this method are sometimes called *parabolic errors*, because the Hesse matrix method is exact if the function is a hyperparabola (third and higher-order derivatives are all zero).\n",
    "\n",
    "Pros:\n",
    "- (Comparably) fast computation.\n",
    "- Provides covariance matrix for error propagation.\n",
    "\n",
    "Cons:\n",
    "- Wrong if function does not look like a hyperparabola around the minimum\n",
    "\n",
    "The Migrad algorithm computes an approximation of the Hesse matrix automatically during minimization. When the default strategy is used, Minuit does a check whether this approximation is sufficiently accurate and if not, it computes the Hesse matrix automatically.\n",
    "\n",
    "All this happens inside C++ Minuit and is a bit intransparent, so we recommend to call `Minuit.hesse` explicitly after the minimization if exact errors are important, like so:"
   ]
  },
  {
   "cell_type": "code",
   "execution_count": null,
   "metadata": {},
   "outputs": [],
   "source": [
    "# let's mess up the current errors a bit so that hesse has something to do\n",
    "m.errors[\"a\"] = 0.16\n",
    "m.errors[\"b\"] = 0.2\n",
    "m.params"
   ]
  },
  {
   "cell_type": "code",
   "execution_count": null,
   "metadata": {},
   "outputs": [],
   "source": [
    "m.hesse()"
   ]
  },
  {
   "cell_type": "markdown",
   "metadata": {},
   "source": [
    "The call returns the updated parameter list, which is again rendered as a table.\n",
    "\n",
    "#### Correlation and Covariance Matrix\n",
    "\n",
    "To see the correlation matrix of the parameters, you do:"
   ]
  },
  {
   "cell_type": "code",
   "execution_count": null,
   "metadata": {
    "inputHidden": false,
    "outputHidden": false
   },
   "outputs": [],
   "source": [
    "m.matrix(correlation=True)"
   ]
  },
  {
   "cell_type": "markdown",
   "metadata": {},
   "source": [
    "The paramaters $a$ and $b$ are stronly anti-correlated, which is highlighed by the blue color of the off-diagonal elements.\n",
    "\n",
    "Correlation is not necessarily a bad thing, but if you have freedom in redefining the parameters of the fit function, it is good to chose parameters which are not strongly correlated.\n",
    "\n",
    "Minuit cannot accurately minimise the function if two parameters are (almost) perfectly (anti-)correlated. It also means that one of two parameters is superfluous, it doesn't add new information. You should rethink the fit function in this case and try to remove one of the parameters from the fit.\n",
    "\n",
    "You can also look at the covariance matrix:"
   ]
  },
  {
   "cell_type": "code",
   "execution_count": null,
   "metadata": {
    "inputHidden": false,
    "outputHidden": false
   },
   "outputs": [],
   "source": [
    "m.matrix()"
   ]
  },
  {
   "cell_type": "markdown",
   "metadata": {
    "inputHidden": false,
    "outputHidden": false
   },
   "source": [
    "To see the matrices as Python objects, use `pprint`:"
   ]
  },
  {
   "cell_type": "code",
   "execution_count": null,
   "metadata": {},
   "outputs": [],
   "source": [
    "pprint(m.matrix(correlation=True))  # correlation matrix as before\n",
    "pprint(m.matrix())  # covariance matrix"
   ]
  },
  {
   "cell_type": "markdown",
   "metadata": {},
   "source": [
    "If you want the matrix as a numpy array (useful for error propagation), use the `np_` methods:"
   ]
  },
  {
   "cell_type": "code",
   "execution_count": null,
   "metadata": {},
   "outputs": [],
   "source": [
    "pprint(m.np_matrix())  # m.np_matrix(correlation=True) also works"
   ]
  },
  {
   "cell_type": "markdown",
   "metadata": {},
   "source": [
    "### Minos for non-parabolic minima\n",
    "\n",
    "Minuits other algorithm to compute uncertainties is Minos. It implements the so-called profile likelihood method, where the neighborhood around the function minimum is scanned until the contour is found where the function increase by the value of `errordef`. The contour defines a confidence region that approximately covers the true parameter point with a certain confidence. The contour is exact in the limit of infinitely large data samples and approximate for the finite case (although the approximation is usually very good). Please consult a textbook about statistics about the mathematical details.\n",
    "\n",
    "Minos provides a better answer than Hesse, if the neighborhood around the minimum is very different from a hyperparabola (e.g. banana shaped), but it takes much much longer to compute.\n",
    "\n",
    "Pros:\n",
    "- Good for functions which are not very close to a hyper-parabola around the minimum\n",
    "- Produces pretty confidence regions for scientific plots\n",
    "\n",
    "Cons:\n",
    "- Takes really long time\n",
    "- Result is difficult to error-propagate, since it cannot be described by a covariance matrix\n",
    "\n",
    "Minos is not automatically called during minimization, it needs to be called explicitly afterwards, like so:"
   ]
  },
  {
   "cell_type": "code",
   "execution_count": null,
   "metadata": {},
   "outputs": [],
   "source": [
    "m.minos()"
   ]
  },
  {
   "cell_type": "markdown",
   "metadata": {},
   "source": [
    "By now you are probably used to see green colors, which indicate that Minos ran successful. Be careful when these are red instead. The fields in the table mean the following:\n",
    "- At Limit: Whether Minos hit a parameter limit before the finishing the contour.\n",
    "- Max FCN: Whether Minos reached the maximum number of allowed calls before finishing the contour.\n",
    "- New Min: Whether Minos discovered a deeper local minimum in the neighborhood of the current one.\n",
    "\n",
    "The errors computed by Minos are now also shown in the parameter list:"
   ]
  },
  {
   "cell_type": "code",
   "execution_count": null,
   "metadata": {},
   "outputs": [],
   "source": [
    "m.params"
   ]
  },
  {
   "cell_type": "markdown",
   "metadata": {},
   "source": [
    "If the absolute values of the Minos errors are very close to the Hesse Error, the function is well approximated by a hyperparabola around the minimum. You can use this as a check instead of explicitly plotting the function around the minimum (for which we provide tools, see below)."
   ]
  },
  {
   "cell_type": "markdown",
   "metadata": {},
   "source": [
    "## Quick access to fit results\n",
    "\n",
    "If working with the dicts returned by `Minuit.migrad` and `Minuit.minos` is not your thing, you can also get the fit results with properties and methods. There are many, please check the reference of `Minuit`. Here are the most important ones:"
   ]
  },
  {
   "cell_type": "code",
   "execution_count": null,
   "metadata": {},
   "outputs": [],
   "source": [
    "pprint(m.values)  # dict-like view of the parameter values\n",
    "# access values by name or index\n",
    "pprint(\"by name\")\n",
    "pprint(m.values[\"a\"])\n",
    "pprint(\"by index\")\n",
    "pprint(m.values[0])\n",
    "\n",
    "# you can also iterate over the view like you would over a dict\n",
    "for key, value in m.values.items():\n",
    "    pprint((key, value))\n",
    "\n",
    "pprint(\"Hesse errors\")\n",
    "pprint(m.errors)  # dict-like view of symmetric uncertainties\n",
    "# you can access errors in the same ways as for m.values\n",
    "\n",
    "pprint(\"Minos errors\")\n",
    "pprint(m.merrors)  # asymmetric uncertainties\n",
    "pprint(\"Hesse covariance\")\n",
    "pprint(m.covariance)  # the covariance matrix computed by Hesse"
   ]
  },
  {
   "cell_type": "markdown",
   "metadata": {},
   "source": [
    "Note that you can play around with iminuit by assigning new values to `m.values` and `m.errors`. The values will be used as a starting point when you call `m.migrad()` again.\n",
    "\n",
    "There are also corresponding methods that return numpy arrays, convenient if you use numpy functions. Note that these methods create copies. The numpy arrays are not views like the attributes. Changing the values of the numpy array does not change the state that `Minuit` sees."
   ]
  },
  {
   "cell_type": "code",
   "execution_count": null,
   "metadata": {
    "scrolled": false
   },
   "outputs": [],
   "source": [
    "# note these are methods and not a properties\n",
    "pprint(m.np_values())\n",
    "pprint(m.np_errors())\n",
    "pprint(m.np_merrors())\n",
    "pprint(m.np_covariance())"
   ]
  },
  {
   "cell_type": "markdown",
   "metadata": {},
   "source": [
    "The layout for most of these is straight-forward, but for `Minuit.np_merrors()` it is different. The layout returned by `Minuit.np_merrors()` follows the convention `[abs(delta_down), delta_up]` that is used by `matplotlib.pyplot.errorbar`. This makes passing Hesse and Minos errors to matplotlib straight-forward. You can see an example here:"
   ]
  },
  {
   "cell_type": "code",
   "execution_count": null,
   "metadata": {},
   "outputs": [],
   "source": [
    "v = m.np_values()\n",
    "ve = m.np_errors()\n",
    "vm = m.np_merrors()\n",
    "# show hesse errors\n",
    "plt.errorbar((0, 1), v, ve, fmt=\"ob\");\n",
    "# show minos errors\n",
    "plt.errorbar((0.01, 1.01), v, vm, fmt=\"or\"); # add a little offset so that the error bars don't overlap\n",
    "plt.xlabel(\"parameter index\")\n",
    "plt.xticks((0, 1))\n",
    "plt.xlim(-0.1, 1.1);"
   ]
  },
  {
   "cell_type": "markdown",
   "metadata": {},
   "source": [
    "## Plotting\n",
    "\n",
    "iminuit comes with buildin methods to draw the confidence regions around the minimum, like so:"
   ]
  },
  {
   "cell_type": "code",
   "execution_count": null,
   "metadata": {},
   "outputs": [],
   "source": [
    "m.draw_mncontour('a','b', nsigma=4);  # nsigma=4 says: draw four contours from sigma=1 to 4"
   ]
  },
  {
   "cell_type": "code",
   "execution_count": null,
   "metadata": {},
   "outputs": [],
   "source": [
    "# get individual minos contours for plotting them yourself\n",
    "param_a, param_b, ctr_xy = m.mncontour('a','b', sigma=2, numpoints=10)\n",
    "pprint(ctr_xy)"
   ]
  },
  {
   "cell_type": "markdown",
   "metadata": {},
   "source": [
    "If you need to inspect the cost function around the minimum because MINUIT warns you about some issues, you can quickly scan cost function around the current parameter values, too."
   ]
  },
  {
   "cell_type": "code",
   "execution_count": null,
   "metadata": {},
   "outputs": [],
   "source": [
    "# 1D value Scan\n",
    "a, fa = m.profile('a')\n",
    "plt.plot(a, fa);"
   ]
  },
  {
   "cell_type": "code",
   "execution_count": null,
   "metadata": {
    "scrolled": true
   },
   "outputs": [],
   "source": [
    "# or use this function for a quick look\n",
    "m.draw_profile('a');"
   ]
  },
  {
   "cell_type": "markdown",
   "metadata": {},
   "source": [
    "Alternativel, you can use `mnprofile` to do a full profile likelihood scan. This mimics what MINOS does to compute confidence intervals. If you have trouble with MINOS, running this may help to inspect the issue.\n",
    "\n",
    "This is computationally expensive, since the scan runs MIGRAD for each point on the profile."
   ]
  },
  {
   "cell_type": "code",
   "execution_count": null,
   "metadata": {},
   "outputs": [],
   "source": [
    "m.draw_mnprofile('a');"
   ]
  },
  {
   "cell_type": "markdown",
   "metadata": {},
   "source": [
    "Finally, you can also look at the 2D contours of the cost function around the minimum. Note that these are just contours of the fit function, not confidence regions. The latter you can only get from `mncontour`."
   ]
  },
  {
   "cell_type": "code",
   "execution_count": null,
   "metadata": {},
   "outputs": [],
   "source": [
    "x,y,z = m.contour('a', 'b', subtract_min=True)\n",
    "cs = plt.contour(x,y,z, (1, 2, 3, 4)) # these are not sigmas, just the contour values\n",
    "plt.clabel(cs);"
   ]
  },
  {
   "cell_type": "code",
   "execution_count": null,
   "metadata": {},
   "outputs": [],
   "source": [
    "# or use this function for a quick look\n",
    "m.draw_contour('a', 'b', show_sigma=True);"
   ]
  }
 ],
 "metadata": {
  "kernel_info": {
   "name": "python3"
  },
  "kernelspec": {
   "display_name": "Python 3",
   "language": "python",
   "name": "python3"
  },
  "language_info": {
   "codemirror_mode": {
    "name": "ipython",
    "version": 3
   },
   "file_extension": ".py",
   "mimetype": "text/x-python",
   "name": "python",
   "nbconvert_exporter": "python",
   "pygments_lexer": "ipython3",
   "version": "3.7.6"
  },
  "nteract": {
   "version": "0.12.3"
  }
 },
 "nbformat": 4,
 "nbformat_minor": 1
}
