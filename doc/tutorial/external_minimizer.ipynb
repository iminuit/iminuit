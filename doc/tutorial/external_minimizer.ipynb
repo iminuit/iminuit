{
 "cells": [
  {
   "cell_type": "markdown",
   "metadata": {},
   "source": [
    "# Using external minimizers\n",
    "\n",
    "We show how to use an external minimizer to find the minimum of a function and then use iminuit to compute the parameter uncertainties.\n",
    "\n",
    "We will demonstrate this with a maximum-likelihood fit of a normal distribution, which is carried out with scipy.optimize.minimize. iminuit is then used to compute the parameter uncertainties."
   ]
  },
  {
   "cell_type": "code",
   "execution_count": 1,
   "metadata": {},
   "outputs": [],
   "source": [
    "from iminuit import Minuit\n",
    "import numpy as np\n",
    "from scipy.stats import norm\n",
    "from scipy.optimize import minimize"
   ]
  },
  {
   "cell_type": "code",
   "execution_count": 2,
   "metadata": {},
   "outputs": [
    {
     "data": {
      "text/plain": [
       "      fun: 1405.1044194490182\n",
       " hess_inv: array([[ 9.11426039e-04, -4.57424334e-05],\n",
       "       [-4.57424334e-05,  4.68208132e-04]])\n",
       "      jac: array([0., 0.])\n",
       "  message: 'Optimization terminated successfully.'\n",
       "     nfev: 45\n",
       "      nit: 12\n",
       "     njev: 15\n",
       "   status: 0\n",
       "  success: True\n",
       "        x: array([-0.05425323,  0.98626113])"
      ]
     },
     "execution_count": 2,
     "metadata": {},
     "output_type": "execute_result"
    }
   ],
   "source": [
    "# normally distributed data\n",
    "rng = np.random.default_rng(1)\n",
    "x = rng.normal(size=1000)\n",
    "\n",
    "# negative log-likelihood for a normal distribution\n",
    "def nll(par):\n",
    "    return -np.sum(norm(par[0], par[1]).logpdf(x))\n",
    "\n",
    "nll.errordef = Minuit.LIKELIHOOD\n",
    "\n",
    "# minimize nll with scipy.optimize.minimize\n",
    "result = minimize(nll, np.ones(2))\n",
    "result"
   ]
  },
  {
   "cell_type": "code",
   "execution_count": 3,
   "metadata": {},
   "outputs": [
    {
     "data": {
      "text/html": [
       "<table>\n",
       "    <tr>\n",
       "        <td></td>\n",
       "        <th title=\"Variable name\"> Name </th>\n",
       "        <th title=\"Value of parameter\"> Value </th>\n",
       "        <th title=\"Hesse error\"> Hesse Error </th>\n",
       "        <th title=\"Minos lower error\"> Minos Error- </th>\n",
       "        <th title=\"Minos upper error\"> Minos Error+ </th>\n",
       "        <th title=\"Lower limit of the parameter\"> Limit- </th>\n",
       "        <th title=\"Upper limit of the parameter\"> Limit+ </th>\n",
       "        <th title=\"Is the parameter fixed in the fit\"> Fixed </th>\n",
       "    </tr>\n",
       "    <tr>\n",
       "        <th> 0 </th>\n",
       "        <td> x0 </td>\n",
       "        <td> -0.054 </td>\n",
       "        <td> 0.031 </td>\n",
       "        <td>  </td>\n",
       "        <td>  </td>\n",
       "        <td>  </td>\n",
       "        <td>  </td>\n",
       "        <td>  </td>\n",
       "    </tr>\n",
       "    <tr>\n",
       "        <th> 1 </th>\n",
       "        <td> x1 </td>\n",
       "        <td> 0.986 </td>\n",
       "        <td> 0.022 </td>\n",
       "        <td>  </td>\n",
       "        <td>  </td>\n",
       "        <td>  </td>\n",
       "        <td>  </td>\n",
       "        <td>  </td>\n",
       "    </tr>\n",
       "</table><table>\n",
       "    <tr>\n",
       "        <td></td>\n",
       "        <th> x0 </th>\n",
       "        <th> x1 </th>\n",
       "    </tr>\n",
       "    <tr>\n",
       "        <th> x0 </th>\n",
       "        <td> 0.000973 </td>\n",
       "        <td style=\"background-color:rgb(250,250,250);color:black\"> 6.92e-08 </td>\n",
       "    </tr>\n",
       "    <tr>\n",
       "        <th> x1 </th>\n",
       "        <td style=\"background-color:rgb(250,250,250);color:black\"> 6.92e-08 </td>\n",
       "        <td> 0.000486 </td>\n",
       "    </tr>\n",
       "</table>"
      ],
      "text/plain": [
       "┌───┬──────┬───────────┬───────────┬────────────┬────────────┬─────────┬─────────┬───────┐\n",
       "│   │ Name │   Value   │ Hesse Err │ Minos Err- │ Minos Err+ │ Limit-  │ Limit+  │ Fixed │\n",
       "├───┼──────┼───────────┼───────────┼────────────┼────────────┼─────────┼─────────┼───────┤\n",
       "│ 0 │ x0   │  -0.054   │   0.031   │            │            │         │         │       │\n",
       "│ 1 │ x1   │   0.986   │   0.022   │            │            │         │         │       │\n",
       "└───┴──────┴───────────┴───────────┴────────────┴────────────┴─────────┴─────────┴───────┘\n",
       "┌────┬───────────────────┐\n",
       "│    │       x0       x1 │\n",
       "├────┼───────────────────┤\n",
       "│ x0 │ 0.000973 6.92e-08 │\n",
       "│ x1 │ 6.92e-08 0.000486 │\n",
       "└────┴───────────────────┘"
      ]
     },
     "execution_count": 3,
     "metadata": {},
     "output_type": "execute_result"
    }
   ],
   "source": [
    "# initialize Minuit with the fit result from scipy.optimize.minimize\n",
    "m = Minuit(nll, result.x)\n",
    "m.hesse()  # this also works without calling MIGRAD before"
   ]
  },
  {
   "cell_type": "markdown",
   "metadata": {},
   "source": [
    "We can also compute the \"Hesse errors\" at any other point than the minimum. These cannot be interpreted as parameter uncertainties, they are just some numbers related to the second derivative of the cost function at that point."
   ]
  },
  {
   "cell_type": "code",
   "execution_count": 4,
   "metadata": {},
   "outputs": [
    {
     "data": {
      "text/html": [
       "<table>\n",
       "    <tr>\n",
       "        <td></td>\n",
       "        <th title=\"Variable name\"> Name </th>\n",
       "        <th title=\"Value of parameter\"> Value </th>\n",
       "        <th title=\"Hesse error\"> Hesse Error </th>\n",
       "        <th title=\"Minos lower error\"> Minos Error- </th>\n",
       "        <th title=\"Minos upper error\"> Minos Error+ </th>\n",
       "        <th title=\"Lower limit of the parameter\"> Limit- </th>\n",
       "        <th title=\"Upper limit of the parameter\"> Limit+ </th>\n",
       "        <th title=\"Is the parameter fixed in the fit\"> Fixed </th>\n",
       "    </tr>\n",
       "    <tr>\n",
       "        <th> 0 </th>\n",
       "        <td> x0 </td>\n",
       "        <td> 1.000 </td>\n",
       "        <td> 0.031 </td>\n",
       "        <td>  </td>\n",
       "        <td>  </td>\n",
       "        <td>  </td>\n",
       "        <td>  </td>\n",
       "        <td>  </td>\n",
       "    </tr>\n",
       "    <tr>\n",
       "        <th> 1 </th>\n",
       "        <td> x1 </td>\n",
       "        <td> 0.500 </td>\n",
       "        <td> 0.006 </td>\n",
       "        <td>  </td>\n",
       "        <td>  </td>\n",
       "        <td>  </td>\n",
       "        <td>  </td>\n",
       "        <td>  </td>\n",
       "    </tr>\n",
       "</table><table>\n",
       "    <tr>\n",
       "        <td></td>\n",
       "        <th> x0 </th>\n",
       "        <th> x1 </th>\n",
       "    </tr>\n",
       "    <tr>\n",
       "        <th> x0 </th>\n",
       "        <td> 0.000963 </td>\n",
       "        <td style=\"background-color:rgb(250,121,121);color:black\"> 0.000169 <strong>(0.861)</strong> </td>\n",
       "    </tr>\n",
       "    <tr>\n",
       "        <th> x1 </th>\n",
       "        <td style=\"background-color:rgb(250,121,121);color:black\"> 0.000169 <strong>(0.861)</strong> </td>\n",
       "        <td> 4.01e-05 </td>\n",
       "    </tr>\n",
       "</table>"
      ],
      "text/plain": [
       "┌───┬──────┬───────────┬───────────┬────────────┬────────────┬─────────┬─────────┬───────┐\n",
       "│   │ Name │   Value   │ Hesse Err │ Minos Err- │ Minos Err+ │ Limit-  │ Limit+  │ Fixed │\n",
       "├───┼──────┼───────────┼───────────┼────────────┼────────────┼─────────┼─────────┼───────┤\n",
       "│ 0 │ x0   │   1.000   │   0.031   │            │            │         │         │       │\n",
       "│ 1 │ x1   │   0.500   │   0.006   │            │            │         │         │       │\n",
       "└───┴──────┴───────────┴───────────┴────────────┴────────────┴─────────┴─────────┴───────┘\n",
       "┌────┬───────────────────┐\n",
       "│    │       x0       x1 │\n",
       "├────┼───────────────────┤\n",
       "│ x0 │ 0.000963 0.000169 │\n",
       "│ x1 │ 0.000169 4.01e-05 │\n",
       "└────┴───────────────────┘"
      ]
     },
     "execution_count": 4,
     "metadata": {},
     "output_type": "execute_result"
    }
   ],
   "source": [
    "m.values = (1.0, 0.5)\n",
    "m.hesse()"
   ]
  },
  {
   "cell_type": "markdown",
   "metadata": {},
   "source": [
    "Likewise, it one can also run MINOS to get MINOS estimates. Note that MINOS can fail if the starting point is not actually a minimum. So here we reset the values to the solution found by scipy.optimize."
   ]
  },
  {
   "cell_type": "code",
   "execution_count": 5,
   "metadata": {},
   "outputs": [
    {
     "data": {
      "text/html": [
       "<table>\n",
       "    <tr>\n",
       "        <td></td>\n",
       "        <th title=\"Variable name\"> Name </th>\n",
       "        <th title=\"Value of parameter\"> Value </th>\n",
       "        <th title=\"Hesse error\"> Hesse Error </th>\n",
       "        <th title=\"Minos lower error\"> Minos Error- </th>\n",
       "        <th title=\"Minos upper error\"> Minos Error+ </th>\n",
       "        <th title=\"Lower limit of the parameter\"> Limit- </th>\n",
       "        <th title=\"Upper limit of the parameter\"> Limit+ </th>\n",
       "        <th title=\"Is the parameter fixed in the fit\"> Fixed </th>\n",
       "    </tr>\n",
       "    <tr>\n",
       "        <th> 0 </th>\n",
       "        <td> x0 </td>\n",
       "        <td> -0.054 </td>\n",
       "        <td> 0.031 </td>\n",
       "        <td> -0.031 </td>\n",
       "        <td> 0.031 </td>\n",
       "        <td>  </td>\n",
       "        <td>  </td>\n",
       "        <td>  </td>\n",
       "    </tr>\n",
       "    <tr>\n",
       "        <th> 1 </th>\n",
       "        <td> x1 </td>\n",
       "        <td> 0.986 </td>\n",
       "        <td> 0.022 </td>\n",
       "        <td> -0.022 </td>\n",
       "        <td> 0.022 </td>\n",
       "        <td>  </td>\n",
       "        <td>  </td>\n",
       "        <td>  </td>\n",
       "    </tr>\n",
       "</table><table>\n",
       "    <tr>\n",
       "        <td></td>\n",
       "        <th colspan=\"2\" style=\"text-align:center\" title=\"Parameter name\"> x0 </th>\n",
       "        <th colspan=\"2\" style=\"text-align:center\" title=\"Parameter name\"> x1 </th>\n",
       "    </tr>\n",
       "    <tr>\n",
       "        <th title=\"Lower and upper minos error of the parameter\"> Error </th>\n",
       "        <td> -0.031 </td>\n",
       "        <td> 0.031 </td>\n",
       "        <td> -0.022 </td>\n",
       "        <td> 0.022 </td>\n",
       "    </tr>\n",
       "    <tr>\n",
       "        <th title=\"Validity of lower/upper minos error\"> Valid </th>\n",
       "        <td style=\"background-color:#92CCA6;color:black\"> True </td>\n",
       "        <td style=\"background-color:#92CCA6;color:black\"> True </td>\n",
       "        <td style=\"background-color:#92CCA6;color:black\"> True </td>\n",
       "        <td style=\"background-color:#92CCA6;color:black\"> True </td>\n",
       "    </tr>\n",
       "    <tr>\n",
       "        <th title=\"Did scan hit limit of any parameter?\"> At Limit </th>\n",
       "        <td style=\"background-color:#92CCA6;color:black\"> False </td>\n",
       "        <td style=\"background-color:#92CCA6;color:black\"> False </td>\n",
       "        <td style=\"background-color:#92CCA6;color:black\"> False </td>\n",
       "        <td style=\"background-color:#92CCA6;color:black\"> False </td>\n",
       "    </tr>\n",
       "    <tr>\n",
       "        <th title=\"Did scan hit function call limit?\"> Max FCN </th>\n",
       "        <td style=\"background-color:#92CCA6;color:black\"> False </td>\n",
       "        <td style=\"background-color:#92CCA6;color:black\"> False </td>\n",
       "        <td style=\"background-color:#92CCA6;color:black\"> False </td>\n",
       "        <td style=\"background-color:#92CCA6;color:black\"> False </td>\n",
       "    </tr>\n",
       "    <tr>\n",
       "        <th title=\"New minimum found when doing scan?\"> New Min </th>\n",
       "        <td style=\"background-color:#92CCA6;color:black\"> False </td>\n",
       "        <td style=\"background-color:#92CCA6;color:black\"> False </td>\n",
       "        <td style=\"background-color:#92CCA6;color:black\"> False </td>\n",
       "        <td style=\"background-color:#92CCA6;color:black\"> False </td>\n",
       "    </tr>\n",
       "</table><table>\n",
       "    <tr>\n",
       "        <td></td>\n",
       "        <th> x0 </th>\n",
       "        <th> x1 </th>\n",
       "    </tr>\n",
       "    <tr>\n",
       "        <th> x0 </th>\n",
       "        <td> 0.000973 </td>\n",
       "        <td style=\"background-color:rgb(250,250,250);color:black\"> 0 </td>\n",
       "    </tr>\n",
       "    <tr>\n",
       "        <th> x1 </th>\n",
       "        <td style=\"background-color:rgb(250,250,250);color:black\"> 0 </td>\n",
       "        <td> 0.000486 </td>\n",
       "    </tr>\n",
       "</table>"
      ],
      "text/plain": [
       "┌───┬──────┬───────────┬───────────┬────────────┬────────────┬─────────┬─────────┬───────┐\n",
       "│   │ Name │   Value   │ Hesse Err │ Minos Err- │ Minos Err+ │ Limit-  │ Limit+  │ Fixed │\n",
       "├───┼──────┼───────────┼───────────┼────────────┼────────────┼─────────┼─────────┼───────┤\n",
       "│ 0 │ x0   │  -0.054   │   0.031   │   -0.031   │   0.031    │         │         │       │\n",
       "│ 1 │ x1   │   0.986   │   0.022   │   -0.022   │   0.022    │         │         │       │\n",
       "└───┴──────┴───────────┴───────────┴────────────┴────────────┴─────────┴─────────┴───────┘\n",
       "┌──────────┬───────────────────────┬───────────────────────┐\n",
       "│          │          x0           │          x1           │\n",
       "├──────────┼───────────┬───────────┼───────────┬───────────┤\n",
       "│  Error   │  -0.031   │   0.031   │  -0.022   │   0.022   │\n",
       "│  Valid   │   True    │   True    │   True    │   True    │\n",
       "│ At Limit │   False   │   False   │   False   │   False   │\n",
       "│ Max FCN  │   False   │   False   │   False   │   False   │\n",
       "│ New Min  │   False   │   False   │   False   │   False   │\n",
       "└──────────┴───────────┴───────────┴───────────┴───────────┘\n",
       "┌────┬───────────────────┐\n",
       "│    │       x0       x1 │\n",
       "├────┼───────────────────┤\n",
       "│ x0 │ 0.000973        0 │\n",
       "│ x1 │        0 0.000486 │\n",
       "└────┴───────────────────┘"
      ]
     },
     "execution_count": 5,
     "metadata": {},
     "output_type": "execute_result"
    }
   ],
   "source": [
    "m.values = result.x\n",
    "m.minos()"
   ]
  },
  {
   "cell_type": "markdown",
   "metadata": {},
   "source": [
    "We can see that MINOS ran successfully. The Hesse Errors were also updated, because MINOS needs HESSE to run first. HESSE is called automatically in this case."
   ]
  }
 ],
 "metadata": {
  "kernelspec": {
   "display_name": "Python 3",
   "language": "python",
   "name": "python3"
  },
  "language_info": {
   "codemirror_mode": {
    "name": "ipython",
    "version": 3
   },
   "file_extension": ".py",
   "mimetype": "text/x-python",
   "name": "python",
   "nbconvert_exporter": "python",
   "pygments_lexer": "ipython3",
   "version": "3.8.10"
  }
 },
 "nbformat": 4,
 "nbformat_minor": 4
}
